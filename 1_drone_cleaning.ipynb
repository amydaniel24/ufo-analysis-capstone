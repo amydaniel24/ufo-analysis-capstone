{
 "cells": [
  {
   "cell_type": "code",
   "execution_count": 4,
   "id": "df515599",
   "metadata": {},
   "outputs": [],
   "source": [
    "import pandas as pd"
   ]
  },
  {
   "cell_type": "code",
   "execution_count": 5,
   "id": "afdfad33",
   "metadata": {},
   "outputs": [],
   "source": [
    "files = [\n",
    "    r'C:\\Users\\opiej\\ufo-analysis-capstone\\ufo-analysis-capstone\\data\\Reported-UAS-Sightings-January-March-2022_0.xlsx',\n",
    "    r'C:\\Users\\opiej\\ufo-analysis-capstone\\ufo-analysis-capstone\\data\\Reported-UAS-Sightings-April-June-2022.xlsx',\n",
    "    r'C:\\Users\\opiej\\ufo-analysis-capstone\\ufo-analysis-capstone\\data\\Reported-UAS-Sightings-July-Sept-2022.xlsx'\n",
    "]\n"
   ]
  },
  {
   "cell_type": "code",
   "execution_count": null,
   "id": "dfde515a",
   "metadata": {},
   "outputs": [],
   "source": [
    "dfs = []\n",
    "for file in files:\n",
    "    df = pd.read_excel(file)\n",
    "    dfs.append(df)\n"
   ]
  },
  {
   "cell_type": "code",
   "execution_count": 7,
   "id": "6c147a46",
   "metadata": {},
   "outputs": [],
   "source": [
    "drone_df = pd.concat(dfs, ignore_index=True)"
   ]
  },
  {
   "cell_type": "code",
   "execution_count": 8,
   "id": "06c347fb",
   "metadata": {},
   "outputs": [
    {
     "name": "stdout",
     "output_type": "stream",
     "text": [
      "(1542, 5)\n"
     ]
    },
    {
     "data": {
      "application/vnd.microsoft.datawrangler.viewer.v0+json": {
       "columns": [
        {
         "name": "index",
         "rawType": "int64",
         "type": "integer"
        },
        {
         "name": "Day of Sighting",
         "rawType": "object",
         "type": "string"
        },
        {
         "name": "State",
         "rawType": "object",
         "type": "string"
        },
        {
         "name": "City",
         "rawType": "object",
         "type": "string"
        },
        {
         "name": "Summary",
         "rawType": "object",
         "type": "string"
        },
        {
         "name": "Date",
         "rawType": "datetime64[ns]",
         "type": "datetime"
        }
       ],
       "ref": "8a0bd4a7-2e3b-4ec4-bef7-27b2db09fcb0",
       "rows": [
        [
         "0",
         "1/1/2022",
         "FLORIDA",
         "ORLANDO",
         "PRELIM INFO FROM FAA OPS: ORLANDO, FL/UAS INCIDENT/0035E/ORLANDO ATCT ADVISED , A321, PHL - MCO, REPORTED A UAS FROM THE 3 O'CLOCK POSITION WHILE S BOUND AT 700 FEET 2 N ORLANDO. NO EVASIVE ACTION TAKEN. ORANGE COUNTY SHERIFF NOTIFIED.",
         null
        ],
        [
         "1",
         "1/1/2022",
         "TEXAS",
         "HOUSTON",
         "PRELIM INFO FROM FAA OPS: HOUSTON, TX/UAS INCIDENT/0020C/HOUSTON ATCT ADVISED , CRJ7, ORD - IAH, REPORTED A UAS FROM BELOW ACFT AT THE 12 O'CLOCK POSITION WHILE W BOUND AT 600 FEET 4.5 ENE IAH. NO EVASIVE ACTION TAKEN. HOUSTON PD NOTIFIED.",
         null
        ],
        [
         "2",
         "1/1/2022",
         "FLORIDA",
         "FORT LAUDERDALE",
         "PRELIM INFO FROM FAA OPS: FORT LAUDERDALE, FL/UAS INCIDENT/0825E/MIAMI ATCT ADVISED , CIRRUS SF50, SGJ - MIA, REPORTED A RED AND GOLD UAS FROM THE RIGHT SIDE WHILE S BOUND AT 11,000 FEET 3 E FLL. NO EVASIVE ACTION TAKEN. BROWARD COUNTY SHERIFF NOTIFIED.",
         null
        ],
        [
         "3",
         "1/1/2022",
         "FLORIDA",
         "ORLANDO",
         "PRELIM INFO FROM FAA OPS: ORLANDO, FL/UAS INCIDENT/0955E/CENTRAL FLORIDA TRACON ADVISED , B737, HOU - MCO, REPORTED A UAS FROM THE 3 O'CLOCK POSITION WHILE S BOUND AT 2,600 FEET 4 NNW ORLANDO EXECUTIVE. NO EVASIVE ACTION TAKEN. ORANGE COUNTY SHERIFF NOTIFIED.",
         null
        ],
        [
         "4",
         "1/1/2022",
         "FLORIDA",
         "TALLAHASSEE",
         "PRELIM INFO FROM FAA OPS: TALLAHASSEE, FL/UAS INCIDENT/1232E/TALLAHASEE ATCT ADVISED , BEECH BE20, TLH - BTR, REPORTED A GRAY AND BLACK UAS FROM AN UNKN POSITION WHILE W BOUND AT 1,200 FEET 1 W TLH. NO EVASIVE ACTION TAKEN. AIRPORT OPS NOTIFIED.",
         null
        ]
       ],
       "shape": {
        "columns": 5,
        "rows": 5
       }
      },
      "text/html": [
       "<div>\n",
       "<style scoped>\n",
       "    .dataframe tbody tr th:only-of-type {\n",
       "        vertical-align: middle;\n",
       "    }\n",
       "\n",
       "    .dataframe tbody tr th {\n",
       "        vertical-align: top;\n",
       "    }\n",
       "\n",
       "    .dataframe thead th {\n",
       "        text-align: right;\n",
       "    }\n",
       "</style>\n",
       "<table border=\"1\" class=\"dataframe\">\n",
       "  <thead>\n",
       "    <tr style=\"text-align: right;\">\n",
       "      <th></th>\n",
       "      <th>Day of Sighting</th>\n",
       "      <th>State</th>\n",
       "      <th>City</th>\n",
       "      <th>Summary</th>\n",
       "      <th>Date</th>\n",
       "    </tr>\n",
       "  </thead>\n",
       "  <tbody>\n",
       "    <tr>\n",
       "      <th>0</th>\n",
       "      <td>1/1/2022</td>\n",
       "      <td>FLORIDA</td>\n",
       "      <td>ORLANDO</td>\n",
       "      <td>PRELIM INFO FROM FAA OPS: ORLANDO, FL/UAS INCI...</td>\n",
       "      <td>NaT</td>\n",
       "    </tr>\n",
       "    <tr>\n",
       "      <th>1</th>\n",
       "      <td>1/1/2022</td>\n",
       "      <td>TEXAS</td>\n",
       "      <td>HOUSTON</td>\n",
       "      <td>PRELIM INFO FROM FAA OPS: HOUSTON, TX/UAS INCI...</td>\n",
       "      <td>NaT</td>\n",
       "    </tr>\n",
       "    <tr>\n",
       "      <th>2</th>\n",
       "      <td>1/1/2022</td>\n",
       "      <td>FLORIDA</td>\n",
       "      <td>FORT LAUDERDALE</td>\n",
       "      <td>PRELIM INFO FROM FAA OPS: FORT LAUDERDALE, FL/...</td>\n",
       "      <td>NaT</td>\n",
       "    </tr>\n",
       "    <tr>\n",
       "      <th>3</th>\n",
       "      <td>1/1/2022</td>\n",
       "      <td>FLORIDA</td>\n",
       "      <td>ORLANDO</td>\n",
       "      <td>PRELIM INFO FROM FAA OPS: ORLANDO, FL/UAS INCI...</td>\n",
       "      <td>NaT</td>\n",
       "    </tr>\n",
       "    <tr>\n",
       "      <th>4</th>\n",
       "      <td>1/1/2022</td>\n",
       "      <td>FLORIDA</td>\n",
       "      <td>TALLAHASSEE</td>\n",
       "      <td>PRELIM INFO FROM FAA OPS: TALLAHASSEE, FL/UAS ...</td>\n",
       "      <td>NaT</td>\n",
       "    </tr>\n",
       "  </tbody>\n",
       "</table>\n",
       "</div>"
      ],
      "text/plain": [
       "  Day of Sighting    State             City  \\\n",
       "0        1/1/2022  FLORIDA          ORLANDO   \n",
       "1        1/1/2022    TEXAS          HOUSTON   \n",
       "2        1/1/2022  FLORIDA  FORT LAUDERDALE   \n",
       "3        1/1/2022  FLORIDA          ORLANDO   \n",
       "4        1/1/2022  FLORIDA      TALLAHASSEE   \n",
       "\n",
       "                                             Summary Date  \n",
       "0  PRELIM INFO FROM FAA OPS: ORLANDO, FL/UAS INCI...  NaT  \n",
       "1  PRELIM INFO FROM FAA OPS: HOUSTON, TX/UAS INCI...  NaT  \n",
       "2  PRELIM INFO FROM FAA OPS: FORT LAUDERDALE, FL/...  NaT  \n",
       "3  PRELIM INFO FROM FAA OPS: ORLANDO, FL/UAS INCI...  NaT  \n",
       "4  PRELIM INFO FROM FAA OPS: TALLAHASSEE, FL/UAS ...  NaT  "
      ]
     },
     "execution_count": 8,
     "metadata": {},
     "output_type": "execute_result"
    }
   ],
   "source": [
    "print(drone_df.shape)\n",
    "drone_df.head()\n"
   ]
  },
  {
   "cell_type": "code",
   "execution_count": null,
   "id": "8c80f846",
   "metadata": {},
   "outputs": [
    {
     "data": {
      "text/plain": [
       "Index(['Day of Sighting', 'State', 'City', 'Summary', 'Date'], dtype='object')"
      ]
     },
     "execution_count": 9,
     "metadata": {},
     "output_type": "execute_result"
    }
   ],
   "source": [
    "\n",
    "drone_df.columns\n"
   ]
  },
  {
   "cell_type": "code",
   "execution_count": 11,
   "id": "c71ad3df",
   "metadata": {},
   "outputs": [],
   "source": [
    "\n",
    "columns_to_keep = ['City', 'State', 'Date', 'Day of Sighting', 'Summary']\n",
    "drone_df = drone_df[columns_to_keep]\n",
    "\n"
   ]
  },
  {
   "cell_type": "markdown",
   "id": "d809de21",
   "metadata": {},
   "source": [
    "change date format and drop rows"
   ]
  },
  {
   "cell_type": "code",
   "execution_count": null,
   "id": "db8ed2ee",
   "metadata": {},
   "outputs": [],
   "source": [
    "drone_df['datetime'] = pd.to_datetime(drone_df['Date'], errors='coerce')\n",
    "\n",
    "drone_df = drone_df.dropna(subset=['datetime'])\n",
    "\n",
    "drone_df['year'] = drone_df['datetime'].dt.year\n",
    "drone_df['month'] = drone_df['datetime'].dt.month\n"
   ]
  },
  {
   "cell_type": "markdown",
   "id": "4c2582a5",
   "metadata": {},
   "source": [
    "find sightings in each state"
   ]
  },
  {
   "cell_type": "code",
   "execution_count": 14,
   "id": "8e0bbad2",
   "metadata": {},
   "outputs": [
    {
     "data": {
      "application/vnd.microsoft.datawrangler.viewer.v0+json": {
       "columns": [
        {
         "name": "State",
         "rawType": "object",
         "type": "string"
        },
        {
         "name": "count",
         "rawType": "int64",
         "type": "integer"
        }
       ],
       "ref": "2ffd0435-3722-4407-9519-f6a97c7040ae",
       "rows": [
        [
         "NEW YORK",
         "57"
        ],
        [
         "FLORIDA",
         "55"
        ],
        [
         "CALIFORNIA",
         "46"
        ],
        [
         "TEXAS",
         "36"
        ],
        [
         "PENNSYLVANIA",
         "24"
        ],
        [
         "WASHINGTON",
         "18"
        ],
        [
         "GEORGIA",
         "17"
        ],
        [
         "ILLINOIS",
         "16"
        ],
        [
         "NEW JERSEY",
         "15"
        ],
        [
         "COLORADO",
         "14"
        ]
       ],
       "shape": {
        "columns": 1,
        "rows": 10
       }
      },
      "text/plain": [
       "State\n",
       "NEW YORK        57\n",
       "FLORIDA         55\n",
       "CALIFORNIA      46\n",
       "TEXAS           36\n",
       "PENNSYLVANIA    24\n",
       "WASHINGTON      18\n",
       "GEORGIA         17\n",
       "ILLINOIS        16\n",
       "NEW JERSEY      15\n",
       "COLORADO        14\n",
       "Name: count, dtype: int64"
      ]
     },
     "execution_count": 14,
     "metadata": {},
     "output_type": "execute_result"
    }
   ],
   "source": [
    "\n",
    "drone_df['State'].value_counts().head(10)\n"
   ]
  },
  {
   "cell_type": "markdown",
   "id": "5a525ccc",
   "metadata": {},
   "source": [
    "#sightings per month"
   ]
  },
  {
   "cell_type": "code",
   "execution_count": 15,
   "id": "9620348d",
   "metadata": {},
   "outputs": [
    {
     "data": {
      "application/vnd.microsoft.datawrangler.viewer.v0+json": {
       "columns": [
        {
         "name": "month",
         "rawType": "int32",
         "type": "integer"
        },
        {
         "name": "count",
         "rawType": "int64",
         "type": "integer"
        }
       ],
       "ref": "1ff386a0-d423-4015-a96e-98f2ded57f1b",
       "rows": [
        [
         "7",
         "166"
        ],
        [
         "8",
         "186"
        ],
        [
         "9",
         "139"
        ]
       ],
       "shape": {
        "columns": 1,
        "rows": 3
       }
      },
      "text/plain": [
       "month\n",
       "7    166\n",
       "8    186\n",
       "9    139\n",
       "Name: count, dtype: int64"
      ]
     },
     "execution_count": 15,
     "metadata": {},
     "output_type": "execute_result"
    }
   ],
   "source": [
    "drone_df['month'].value_counts().sort_index()"
   ]
  },
  {
   "cell_type": "code",
   "execution_count": 16,
   "id": "10846746",
   "metadata": {},
   "outputs": [],
   "source": [
    "drone_df.to_csv(r'C:\\Users\\opiej\\ufo-analysis-capstone\\ufo-analysis-capstone\\data\\cleaned_drone_data.csv', index=False)\n"
   ]
  },
  {
   "cell_type": "code",
   "execution_count": null,
   "id": "b2c5b51b",
   "metadata": {},
   "outputs": [
    {
     "data": {
      "image/png": "[encoded data removed]",
      "text/plain": [
       "<Figure size 1000x500 with 1 Axes>"
      ]
     },
     "metadata": {},
     "output_type": "display_data"
    }
   ],
   "source": [
    "import matplotlib.pyplot as plt\n",
    "import seaborn as sns\n",
    "\n",
    "plt.figure(figsize=(10,5))\n",
    "drone_df['State'].value_counts().head(10).plot(kind='bar')\n",
    "plt.title('Top 10 States for Drone Sightings')\n",
    "plt.ylabel('Number of Reports')\n",
    "plt.xlabel('State')\n",
    "plt.show()"
   ]
  }
 ],
 "metadata": {
  "kernelspec": {
   "display_name": "venv (3.13.1)",
   "language": "python",
   "name": "python3"
  },
  "language_info": {
   "codemirror_mode": {
    "name": "ipython",
    "version": 3
   },
   "file_extension": ".py",
   "mimetype": "text/x-python",
   "name": "python",
   "nbconvert_exporter": "python",
   "pygments_lexer": "ipython3",
   "version": "3.13.1"
  }
 },
 "nbformat": 4,
 "nbformat_minor": 5
}
