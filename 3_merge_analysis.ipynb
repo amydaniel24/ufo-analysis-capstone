{
 "cells": [
  {
   "cell_type": "code",
   "execution_count": 14,
   "id": "9a3af13b",
   "metadata": {},
   "outputs": [
    {
     "name": "stderr",
     "output_type": "stream",
     "text": [
      "C:\\Users\\opiej\\AppData\\Local\\Temp\\ipykernel_23968\\4233964139.py:4: DtypeWarning: Columns (9) have mixed types. Specify dtype option on import or set low_memory=False.\n",
      "  ufo_df = pd.read_csv(r'C:\\Users\\opiej\\ufo-analysis-capstone\\ufo-analysis-capstone\\data\\cleaned_ufo_data.csv')\n"
     ]
    },
    {
     "data": {
      "text/plain": [
       "(              datetime          city state country     shape  duration_sec  \\\n",
       " 0  1949-10-10 20:30:00    san marcos    tx      us  cylinder        2700.0   \n",
       " 1  1949-10-10 21:00:00  lackland afb    tx     NaN     light        7200.0   \n",
       " 2  1956-10-10 21:00:00          edna    tx      us    circle          20.0   \n",
       " 3  1960-10-10 20:00:00       kaneohe    hi      us     light         900.0   \n",
       " 4  1961-10-10 19:00:00       bristol    tn      us    sphere         300.0   \n",
       " \n",
       "   duration_text                                           comments  \\\n",
       " 0    45 minutes  This event took place in early fall around 194...   \n",
       " 1       1-2 hrs  1949 Lackland AFB&#44 TX.  Lights racing acros...   \n",
       " 2      1/2 hour  My older brother and twin sister were leaving ...   \n",
       " 3    15 minutes  AS a Marine 1st Lt. flying an FJ4B fighter/att...   \n",
       " 4     5 minutes  My father is now 89 my brother 52 the girl wit...   \n",
       " \n",
       "   posted_date    latitude   longitude  year  month  hour  \n",
       " 0   4/27/2004  29.8830556  -97.941111  1949     10    20  \n",
       " 1  12/16/2005    29.38421  -98.581082  1949     10    21  \n",
       " 2   1/17/2004  28.9783333  -96.645833  1956     10    21  \n",
       " 3   1/22/2004  21.4180556 -157.803611  1960     10    20  \n",
       " 4   4/27/2007  36.5950000  -82.188889  1961     10    19  ,\n",
       "              City       State        Date  Day of Sighting  \\\n",
       " 0  PATUXENT RIVER    MARYLAND  2022-07-01              NaN   \n",
       " 1     LITTLE ROCK    ARKANSAS  2022-07-01              NaN   \n",
       " 2           TAMPA     FLORIDA  2022-07-01              NaN   \n",
       " 3         MODESTO  CALIFORNIA  2022-07-01              NaN   \n",
       " 4       ANNAPOLIS    MARYLAND  2022-07-02              NaN   \n",
       " \n",
       "                                              Summary    datetime  year  month  \n",
       " 0  PRELIM INFO FROM FAA OPS: PATUXENT RIVER, MD/U...  2022-07-01  2022      7  \n",
       " 1  PRELIM INFO FROM FAA OPS: LITTLE ROCK, AR/UAS ...  2022-07-01  2022      7  \n",
       " 2  PRELIM INFO FROM FAA OPS: TAMPA, FL/UAS SIGHTI...  2022-07-01  2022      7  \n",
       " 3  PRELIM INFO FROM FAA OPS: MODESTO, CA/UAS SIGH...  2022-07-01  2022      7  \n",
       " 4  PRELIM INFO FROM FAA OPS: ANNAPOLIS, MD/UAS SI...  2022-07-02  2022      7  )"
      ]
     },
     "execution_count": 14,
     "metadata": {},
     "output_type": "execute_result"
    }
   ],
   "source": [
    "import pandas as pd\n",
    "\n",
    "\n",
    "ufo_df = pd.read_csv(r'C:\\Users\\opiej\\ufo-analysis-capstone\\ufo-analysis-capstone\\data\\cleaned_ufo_data.csv')\n",
    "drone_df = pd.read_csv(r'C:\\Users\\opiej\\ufo-analysis-capstone\\ufo-analysis-capstone\\data\\cleaned_drone_data.csv')\n",
    "\n",
    "\n",
    "ufo_df.head(), drone_df.head()\n"
   ]
  },
  {
   "cell_type": "code",
   "execution_count": 22,
   "id": "0bcc2323",
   "metadata": {},
   "outputs": [
    {
     "name": "stdout",
     "output_type": "stream",
     "text": [
      "Index(['Sighting', 'Occurred', 'Location', 'Shape', 'Duration',\n",
      "       'No of observers', 'Reported', 'Posted', 'Summary', 'Text',\n",
      "       'Lights on object', 'Aura or haze around object', 'Aircraft nearby',\n",
      "       'Animals reacted', 'Left a trail', 'Emitted other objects',\n",
      "       'Changed Colo', 'Emitted beams', 'Location details', 'Changed Color',\n",
      "       'Electrical or magnetic effects', 'Explanation', 'Possible abduction',\n",
      "       'Missing Time', 'Marks found on body afterwards', 'Landed'],\n",
      "      dtype='object')\n"
     ]
    },
    {
     "data": {
      "application/vnd.microsoft.datawrangler.viewer.v0+json": {
       "columns": [
        {
         "name": "index",
         "rawType": "int64",
         "type": "integer"
        },
        {
         "name": "Sighting",
         "rawType": "int64",
         "type": "integer"
        },
        {
         "name": "Occurred",
         "rawType": "object",
         "type": "string"
        },
        {
         "name": "Location",
         "rawType": "object",
         "type": "string"
        },
        {
         "name": "Shape",
         "rawType": "object",
         "type": "string"
        },
        {
         "name": "Duration",
         "rawType": "object",
         "type": "unknown"
        },
        {
         "name": "No of observers",
         "rawType": "float64",
         "type": "float"
        },
        {
         "name": "Reported",
         "rawType": "object",
         "type": "string"
        },
        {
         "name": "Posted",
         "rawType": "object",
         "type": "string"
        },
        {
         "name": "Summary",
         "rawType": "object",
         "type": "unknown"
        },
        {
         "name": "Text",
         "rawType": "object",
         "type": "unknown"
        },
        {
         "name": "Lights on object",
         "rawType": "object",
         "type": "unknown"
        },
        {
         "name": "Aura or haze around object",
         "rawType": "object",
         "type": "unknown"
        },
        {
         "name": "Aircraft nearby",
         "rawType": "object",
         "type": "unknown"
        },
        {
         "name": "Animals reacted",
         "rawType": "object",
         "type": "unknown"
        },
        {
         "name": "Left a trail",
         "rawType": "object",
         "type": "unknown"
        },
        {
         "name": "Emitted other objects",
         "rawType": "object",
         "type": "unknown"
        },
        {
         "name": "Changed Colo",
         "rawType": "object",
         "type": "unknown"
        },
        {
         "name": "Emitted beams",
         "rawType": "object",
         "type": "unknown"
        },
        {
         "name": "Location details",
         "rawType": "object",
         "type": "unknown"
        },
        {
         "name": "Changed Color",
         "rawType": "object",
         "type": "unknown"
        },
        {
         "name": "Electrical or magnetic effects",
         "rawType": "object",
         "type": "unknown"
        },
        {
         "name": "Explanation",
         "rawType": "object",
         "type": "unknown"
        },
        {
         "name": "Possible abduction",
         "rawType": "object",
         "type": "unknown"
        },
        {
         "name": "Missing Time",
         "rawType": "object",
         "type": "unknown"
        },
        {
         "name": "Marks found on body afterwards",
         "rawType": "object",
         "type": "unknown"
        },
        {
         "name": "Landed",
         "rawType": "object",
         "type": "unknown"
        }
       ],
       "ref": "d45124b7-b689-438b-bdfc-8d24a9e6515c",
       "rows": [
        [
         "0",
         "114864",
         "2014-09-21 13:00:00 Local",
         "Huntsville, TX, USA",
         "Rectangle",
         "several seconds",
         "1.0",
         "2014-10-23 11:11:17 Pacific",
         "2014-11-06 00:00:00",
         "Rectangle shaped UFO observed traveling at an extremely high rate of speed and sending out bright white propulsion as it traveled.",
         "I observed a rectangle shaped UFO moving at a very high rate of speed and sending out bright white propulsion as it traveled.  The UFO seemed to be larger than an aircraft as I noticed that as it flew under a cloud.  \nMy camera was aimed at 90 degrees upward..straight up in the sky when the UFO was recorded.  The UFO itself was dark in color.",
         "True",
         "True",
         null,
         null,
         null,
         null,
         null,
         null,
         null,
         null,
         null,
         null,
         null,
         null,
         null,
         null
        ],
        [
         "1",
         "126755",
         "2015-12-18 13:00:00 Local",
         "Sonoma, CA, USA",
         "Sphere",
         "2 minutes",
         "1.0",
         "2016-04-07 13:23:15 Pacific",
         "2016-04-15 00:00:00",
         "Round, metallic-looking sphere over my house",
         "It was a bright, clear day in December 2015, about 60 degrees and sunny, and I went out to get some firewood.\nI happened to look up and there was a round (spherical), bronze-colored craft sitting stationary over my house.\nIt had a metallic looking appearance and on the side that I was looking at it looked to me like there were part concave or convex areas to it.  I was looking at it facing north, looking up over my house.\nThere were no propellers, so it could not have been a drone, and no sound.  It was approximately 300 ft. above my house and if I were to estimate width, I would say maybe  20 to 30 feet wide.\nI was the only witness and I watched it for about 1 to 2 minutes.  Here is another additional part to my story.\nI have followed the UFO media reports for quite a few years and always thought  that  it would be great  to see one, to validate for myself that they exist.  I would get my camera, get a witness,  document everything, etc.\nAfter watching the craft, I continued on out to the wood pile and got the logs for my fireplace, and forgot about the entire thing… I remembered about 3 ½  weeks later, into January of this year , about  witnessing the craft.\nI am totally perplexed about that part of my story.\nI am a 62 year old woman with grandkids, have run a business for many years, and  have lived here for 28 years.  There would be no reason for me to fabricate this event.  As to who was piloting it -  ??",
         null,
         null,
         null,
         null,
         null,
         null,
         null,
         null,
         null,
         null,
         null,
         null,
         null,
         null,
         null,
         null
        ],
        [
         "2",
         "106946",
         "2014-02-05 21:00:00 Local",
         "Hershey, PA, USA",
         "Light",
         "10 seconds",
         "1.0",
         "2014-02-05 19:04:05 Pacific",
         "2014-02-07 00:00:00",
         "Bright flash of light. solid white object in the sky. disappeared after a couple seconds.  Seen while driving .",
         "I was driving on the highway and there was a huge flash of light.  The light lit up the entire town, possibly more.  \nAs I looked around for a split second I noticed a very bright ball of light in the sky ahead of.  \nThis light was almost tear dropped.  It was moving downwards at a high rate.  \nAfter a couple seconds it disappeared.  \nMy dad inside the house with closed blinds saw this flash of light.  \nThe house is about 2-3 minutes from my location at the time, in a neighborhood with houses all around.\nWitness confirms a nighttime sighting.  We have amended the time above.  PD",
         null,
         null,
         null,
         null,
         null,
         null,
         null,
         null,
         null,
         null,
         null,
         null,
         null,
         null,
         null,
         null
        ],
        [
         "3",
         "161419",
         "2019-05-16 12:00:00 Local",
         "Brownsville, TX, USA",
         "Oval",
         null,
         "1.0",
         "2021-01-02 20:45:43 Pacific",
         "2021-01-19 00:00:00",
         null,
         null,
         null,
         null,
         "True",
         "True",
         null,
         null,
         null,
         null,
         null,
         null,
         null,
         null,
         null,
         null,
         null,
         null
        ],
        [
         "4",
         "18735",
         "2001-07-29 23:59:00 Local",
         "Tucson, AZ, USA",
         "Unknown",
         "?",
         "2.0",
         "2001-07-30 00:00:00 Pacific",
         "2001-08-05 00:00:00",
         "1 of 3 i saw came close, released a small slow light, then i think they just disappeared",
         "my girlfriend and i were on a drive and wound up on the side of the road near mt. baldey, madera canyon area and i pointed at 3 lights in the sky. curious because there were no blinkiing lights. one came very quickly towards us stoppped at a closer distance released something lit which went very slow in a circle motion then toward our direction, and then all disappeared which was weird cause we didnt see any of them just vanish somehow we didnt talk about it after either which was weird also now that i remember.\nError in time.  We presume witness means 2359 (??).  PD",
         null,
         null,
         null,
         null,
         "True",
         "True",
         null,
         null,
         null,
         null,
         null,
         null,
         null,
         null,
         null,
         null
        ]
       ],
       "shape": {
        "columns": 26,
        "rows": 5
       }
      },
      "text/html": [
       "<div>\n",
       "<style scoped>\n",
       "    .dataframe tbody tr th:only-of-type {\n",
       "        vertical-align: middle;\n",
       "    }\n",
       "\n",
       "    .dataframe tbody tr th {\n",
       "        vertical-align: top;\n",
       "    }\n",
       "\n",
       "    .dataframe thead th {\n",
       "        text-align: right;\n",
       "    }\n",
       "</style>\n",
       "<table border=\"1\" class=\"dataframe\">\n",
       "  <thead>\n",
       "    <tr style=\"text-align: right;\">\n",
       "      <th></th>\n",
       "      <th>Sighting</th>\n",
       "      <th>Occurred</th>\n",
       "      <th>Location</th>\n",
       "      <th>Shape</th>\n",
       "      <th>Duration</th>\n",
       "      <th>No of observers</th>\n",
       "      <th>Reported</th>\n",
       "      <th>Posted</th>\n",
       "      <th>Summary</th>\n",
       "      <th>Text</th>\n",
       "      <th>...</th>\n",
       "      <th>Changed Colo</th>\n",
       "      <th>Emitted beams</th>\n",
       "      <th>Location details</th>\n",
       "      <th>Changed Color</th>\n",
       "      <th>Electrical or magnetic effects</th>\n",
       "      <th>Explanation</th>\n",
       "      <th>Possible abduction</th>\n",
       "      <th>Missing Time</th>\n",
       "      <th>Marks found on body afterwards</th>\n",
       "      <th>Landed</th>\n",
       "    </tr>\n",
       "  </thead>\n",
       "  <tbody>\n",
       "    <tr>\n",
       "      <th>0</th>\n",
       "      <td>114864</td>\n",
       "      <td>2014-09-21 13:00:00 Local</td>\n",
       "      <td>Huntsville, TX, USA</td>\n",
       "      <td>Rectangle</td>\n",
       "      <td>several seconds</td>\n",
       "      <td>1.0</td>\n",
       "      <td>2014-10-23 11:11:17 Pacific</td>\n",
       "      <td>2014-11-06 00:00:00</td>\n",
       "      <td>Rectangle shaped UFO observed traveling at an ...</td>\n",
       "      <td>I observed a rectangle shaped UFO moving at a ...</td>\n",
       "      <td>...</td>\n",
       "      <td>None</td>\n",
       "      <td>None</td>\n",
       "      <td>None</td>\n",
       "      <td>None</td>\n",
       "      <td>None</td>\n",
       "      <td>None</td>\n",
       "      <td>None</td>\n",
       "      <td>None</td>\n",
       "      <td>None</td>\n",
       "      <td>None</td>\n",
       "    </tr>\n",
       "    <tr>\n",
       "      <th>1</th>\n",
       "      <td>126755</td>\n",
       "      <td>2015-12-18 13:00:00 Local</td>\n",
       "      <td>Sonoma, CA, USA</td>\n",
       "      <td>Sphere</td>\n",
       "      <td>2 minutes</td>\n",
       "      <td>1.0</td>\n",
       "      <td>2016-04-07 13:23:15 Pacific</td>\n",
       "      <td>2016-04-15 00:00:00</td>\n",
       "      <td>Round, metallic-looking sphere over my house</td>\n",
       "      <td>It was a bright, clear day in December 2015, a...</td>\n",
       "      <td>...</td>\n",
       "      <td>None</td>\n",
       "      <td>None</td>\n",
       "      <td>None</td>\n",
       "      <td>None</td>\n",
       "      <td>None</td>\n",
       "      <td>None</td>\n",
       "      <td>None</td>\n",
       "      <td>None</td>\n",
       "      <td>None</td>\n",
       "      <td>None</td>\n",
       "    </tr>\n",
       "    <tr>\n",
       "      <th>2</th>\n",
       "      <td>106946</td>\n",
       "      <td>2014-02-05 21:00:00 Local</td>\n",
       "      <td>Hershey, PA, USA</td>\n",
       "      <td>Light</td>\n",
       "      <td>10 seconds</td>\n",
       "      <td>1.0</td>\n",
       "      <td>2014-02-05 19:04:05 Pacific</td>\n",
       "      <td>2014-02-07 00:00:00</td>\n",
       "      <td>Bright flash of light. solid white object in t...</td>\n",
       "      <td>I was driving on the highway and there was a h...</td>\n",
       "      <td>...</td>\n",
       "      <td>None</td>\n",
       "      <td>None</td>\n",
       "      <td>None</td>\n",
       "      <td>None</td>\n",
       "      <td>None</td>\n",
       "      <td>None</td>\n",
       "      <td>None</td>\n",
       "      <td>None</td>\n",
       "      <td>None</td>\n",
       "      <td>None</td>\n",
       "    </tr>\n",
       "    <tr>\n",
       "      <th>3</th>\n",
       "      <td>161419</td>\n",
       "      <td>2019-05-16 12:00:00 Local</td>\n",
       "      <td>Brownsville, TX, USA</td>\n",
       "      <td>Oval</td>\n",
       "      <td>None</td>\n",
       "      <td>1.0</td>\n",
       "      <td>2021-01-02 20:45:43 Pacific</td>\n",
       "      <td>2021-01-19 00:00:00</td>\n",
       "      <td>None</td>\n",
       "      <td>None</td>\n",
       "      <td>...</td>\n",
       "      <td>None</td>\n",
       "      <td>None</td>\n",
       "      <td>None</td>\n",
       "      <td>None</td>\n",
       "      <td>None</td>\n",
       "      <td>None</td>\n",
       "      <td>None</td>\n",
       "      <td>None</td>\n",
       "      <td>None</td>\n",
       "      <td>None</td>\n",
       "    </tr>\n",
       "    <tr>\n",
       "      <th>4</th>\n",
       "      <td>18735</td>\n",
       "      <td>2001-07-29 23:59:00 Local</td>\n",
       "      <td>Tucson, AZ, USA</td>\n",
       "      <td>Unknown</td>\n",
       "      <td>?</td>\n",
       "      <td>2.0</td>\n",
       "      <td>2001-07-30 00:00:00 Pacific</td>\n",
       "      <td>2001-08-05 00:00:00</td>\n",
       "      <td>1 of 3 i saw came close, released a small slow...</td>\n",
       "      <td>my girlfriend and i were on a drive and wound ...</td>\n",
       "      <td>...</td>\n",
       "      <td>None</td>\n",
       "      <td>None</td>\n",
       "      <td>None</td>\n",
       "      <td>None</td>\n",
       "      <td>None</td>\n",
       "      <td>None</td>\n",
       "      <td>None</td>\n",
       "      <td>None</td>\n",
       "      <td>None</td>\n",
       "      <td>None</td>\n",
       "    </tr>\n",
       "  </tbody>\n",
       "</table>\n",
       "<p>5 rows × 26 columns</p>\n",
       "</div>"
      ],
      "text/plain": [
       "   Sighting                   Occurred              Location      Shape  \\\n",
       "0    114864  2014-09-21 13:00:00 Local   Huntsville, TX, USA  Rectangle   \n",
       "1    126755  2015-12-18 13:00:00 Local       Sonoma, CA, USA     Sphere   \n",
       "2    106946  2014-02-05 21:00:00 Local      Hershey, PA, USA      Light   \n",
       "3    161419  2019-05-16 12:00:00 Local  Brownsville, TX, USA       Oval   \n",
       "4     18735  2001-07-29 23:59:00 Local       Tucson, AZ, USA    Unknown   \n",
       "\n",
       "          Duration  No of observers                     Reported  \\\n",
       "0  several seconds              1.0  2014-10-23 11:11:17 Pacific   \n",
       "1        2 minutes              1.0  2016-04-07 13:23:15 Pacific   \n",
       "2       10 seconds              1.0  2014-02-05 19:04:05 Pacific   \n",
       "3             None              1.0  2021-01-02 20:45:43 Pacific   \n",
       "4                ?              2.0  2001-07-30 00:00:00 Pacific   \n",
       "\n",
       "                Posted                                            Summary  \\\n",
       "0  2014-11-06 00:00:00  Rectangle shaped UFO observed traveling at an ...   \n",
       "1  2016-04-15 00:00:00       Round, metallic-looking sphere over my house   \n",
       "2  2014-02-07 00:00:00  Bright flash of light. solid white object in t...   \n",
       "3  2021-01-19 00:00:00                                               None   \n",
       "4  2001-08-05 00:00:00  1 of 3 i saw came close, released a small slow...   \n",
       "\n",
       "                                                Text  ... Changed Colo  \\\n",
       "0  I observed a rectangle shaped UFO moving at a ...  ...         None   \n",
       "1  It was a bright, clear day in December 2015, a...  ...         None   \n",
       "2  I was driving on the highway and there was a h...  ...         None   \n",
       "3                                               None  ...         None   \n",
       "4  my girlfriend and i were on a drive and wound ...  ...         None   \n",
       "\n",
       "  Emitted beams Location details Changed Color Electrical or magnetic effects  \\\n",
       "0          None             None          None                           None   \n",
       "1          None             None          None                           None   \n",
       "2          None             None          None                           None   \n",
       "3          None             None          None                           None   \n",
       "4          None             None          None                           None   \n",
       "\n",
       "  Explanation Possible abduction Missing Time Marks found on body afterwards  \\\n",
       "0        None               None         None                           None   \n",
       "1        None               None         None                           None   \n",
       "2        None               None         None                           None   \n",
       "3        None               None         None                           None   \n",
       "4        None               None         None                           None   \n",
       "\n",
       "  Landed  \n",
       "0   None  \n",
       "1   None  \n",
       "2   None  \n",
       "3   None  \n",
       "4   None  \n",
       "\n",
       "[5 rows x 26 columns]"
      ]
     },
     "execution_count": 22,
     "metadata": {},
     "output_type": "execute_result"
    }
   ],
   "source": [
    "import pandas as pd\n",
    "import json\n",
    "\n",
    "# Load the JSON file\n",
    "with open(r'C:\\Users\\opiej\\ufo-analysis-capstone\\ufo-analysis-capstone\\data\\ufo.json', encoding='utf-8') as file:\n",
    "    data = json.load(file)\n",
    "\n",
    "# Flatten the data inside 'rows' → 'row'\n",
    "records = [row['row'] for row in data['rows']]  # extract actual rows\n",
    "\n",
    "df_flat = pd.DataFrame(records)\n",
    "\n",
    "# Peek at available columns\n",
    "print(df_flat.columns)\n",
    "df_flat.head()\n"
   ]
  },
  {
   "cell_type": "code",
   "execution_count": 27,
   "id": "6d01fd9b",
   "metadata": {},
   "outputs": [
    {
     "name": "stdout",
     "output_type": "stream",
     "text": [
      "Index(['City', 'State', 'Date', 'Day of Sighting', 'Summary', 'datetime',\n",
      "       'year', 'month'],\n",
      "      dtype='object')\n"
     ]
    }
   ],
   "source": [
    "print(drone_df.columns)\n"
   ]
  },
  {
   "cell_type": "code",
   "execution_count": 28,
   "id": "fdc85412",
   "metadata": {},
   "outputs": [],
   "source": [
    "# Rename 'Date' to 'Occurred' to match UFO data structure\n",
    "drone_df.rename(columns={'Date': 'Occurred'}, inplace=True)\n",
    "\n",
    "# Convert 'Occurred' to datetime\n",
    "drone_df['Occurred'] = pd.to_datetime(drone_df['Occurred'], errors='coerce')\n",
    "drone_df = drone_df.dropna(subset=['Occurred'])\n",
    "\n",
    "# Extract date only\n",
    "drone_df['date_only'] = drone_df['Occurred'].dt.date\n",
    "\n",
    "# Normalize City and State for consistent merge\n",
    "drone_df['City'] = drone_df['City'].str.strip().str.title()\n",
    "drone_df['State'] = drone_df['State'].str.strip().str.upper()\n"
   ]
  },
  {
   "cell_type": "code",
   "execution_count": 29,
   "id": "6882945d",
   "metadata": {},
   "outputs": [],
   "source": [
    "# Convert to datetime\n",
    "drone_df['Occurred'] = pd.to_datetime(drone_df['Occurred'], errors='coerce')\n",
    "\n",
    "# Drop rows with invalid dates\n",
    "drone_df = drone_df.dropna(subset=['Occurred'])\n",
    "\n",
    "# Create date parts\n",
    "drone_df['date_only'] = drone_df['Occurred'].dt.date\n",
    "drone_df['City'] = drone_df['City'].str.strip().str.title()\n",
    "drone_df['State'] = drone_df['State'].str.strip().str.upper()\n"
   ]
  },
  {
   "cell_type": "code",
   "execution_count": 30,
   "id": "940335f6",
   "metadata": {},
   "outputs": [
    {
     "data": {
      "application/vnd.microsoft.datawrangler.viewer.v0+json": {
       "columns": [
        {
         "name": "index",
         "rawType": "int64",
         "type": "integer"
        },
        {
         "name": "Occurred",
         "rawType": "datetime64[ns]",
         "type": "datetime"
        },
        {
         "name": "City",
         "rawType": "object",
         "type": "string"
        },
        {
         "name": "State",
         "rawType": "object",
         "type": "string"
        },
        {
         "name": "date_only",
         "rawType": "object",
         "type": "unknown"
        },
        {
         "name": "year",
         "rawType": "int32",
         "type": "integer"
        },
        {
         "name": "month",
         "rawType": "int32",
         "type": "integer"
        },
        {
         "name": "hour",
         "rawType": "int32",
         "type": "integer"
        }
       ],
       "ref": "5a653ed5-1e40-412c-99d5-67fae3b45a2a",
       "rows": [
        [
         "0",
         "2014-09-21 13:00:00",
         "Huntsville",
         "TX",
         "2014-09-21",
         "2014",
         "9",
         "13"
        ],
        [
         "1",
         "2015-12-18 13:00:00",
         "Sonoma",
         "CA",
         "2015-12-18",
         "2015",
         "12",
         "13"
        ],
        [
         "2",
         "2014-02-05 21:00:00",
         "Hershey",
         "PA",
         "2014-02-05",
         "2014",
         "2",
         "21"
        ],
        [
         "3",
         "2019-05-16 12:00:00",
         "Brownsville",
         "TX",
         "2019-05-16",
         "2019",
         "5",
         "12"
        ],
        [
         "4",
         "2001-07-29 23:59:00",
         "Tucson",
         "AZ",
         "2001-07-29",
         "2001",
         "7",
         "23"
        ]
       ],
       "shape": {
        "columns": 7,
        "rows": 5
       }
      },
      "text/html": [
       "<div>\n",
       "<style scoped>\n",
       "    .dataframe tbody tr th:only-of-type {\n",
       "        vertical-align: middle;\n",
       "    }\n",
       "\n",
       "    .dataframe tbody tr th {\n",
       "        vertical-align: top;\n",
       "    }\n",
       "\n",
       "    .dataframe thead th {\n",
       "        text-align: right;\n",
       "    }\n",
       "</style>\n",
       "<table border=\"1\" class=\"dataframe\">\n",
       "  <thead>\n",
       "    <tr style=\"text-align: right;\">\n",
       "      <th></th>\n",
       "      <th>Occurred</th>\n",
       "      <th>City</th>\n",
       "      <th>State</th>\n",
       "      <th>date_only</th>\n",
       "      <th>year</th>\n",
       "      <th>month</th>\n",
       "      <th>hour</th>\n",
       "    </tr>\n",
       "  </thead>\n",
       "  <tbody>\n",
       "    <tr>\n",
       "      <th>0</th>\n",
       "      <td>2014-09-21 13:00:00</td>\n",
       "      <td>Huntsville</td>\n",
       "      <td>TX</td>\n",
       "      <td>2014-09-21</td>\n",
       "      <td>2014</td>\n",
       "      <td>9</td>\n",
       "      <td>13</td>\n",
       "    </tr>\n",
       "    <tr>\n",
       "      <th>1</th>\n",
       "      <td>2015-12-18 13:00:00</td>\n",
       "      <td>Sonoma</td>\n",
       "      <td>CA</td>\n",
       "      <td>2015-12-18</td>\n",
       "      <td>2015</td>\n",
       "      <td>12</td>\n",
       "      <td>13</td>\n",
       "    </tr>\n",
       "    <tr>\n",
       "      <th>2</th>\n",
       "      <td>2014-02-05 21:00:00</td>\n",
       "      <td>Hershey</td>\n",
       "      <td>PA</td>\n",
       "      <td>2014-02-05</td>\n",
       "      <td>2014</td>\n",
       "      <td>2</td>\n",
       "      <td>21</td>\n",
       "    </tr>\n",
       "    <tr>\n",
       "      <th>3</th>\n",
       "      <td>2019-05-16 12:00:00</td>\n",
       "      <td>Brownsville</td>\n",
       "      <td>TX</td>\n",
       "      <td>2019-05-16</td>\n",
       "      <td>2019</td>\n",
       "      <td>5</td>\n",
       "      <td>12</td>\n",
       "    </tr>\n",
       "    <tr>\n",
       "      <th>4</th>\n",
       "      <td>2001-07-29 23:59:00</td>\n",
       "      <td>Tucson</td>\n",
       "      <td>AZ</td>\n",
       "      <td>2001-07-29</td>\n",
       "      <td>2001</td>\n",
       "      <td>7</td>\n",
       "      <td>23</td>\n",
       "    </tr>\n",
       "  </tbody>\n",
       "</table>\n",
       "</div>"
      ],
      "text/plain": [
       "             Occurred         City State   date_only  year  month  hour\n",
       "0 2014-09-21 13:00:00   Huntsville    TX  2014-09-21  2014      9    13\n",
       "1 2015-12-18 13:00:00       Sonoma    CA  2015-12-18  2015     12    13\n",
       "2 2014-02-05 21:00:00      Hershey    PA  2014-02-05  2014      2    21\n",
       "3 2019-05-16 12:00:00  Brownsville    TX  2019-05-16  2019      5    12\n",
       "4 2001-07-29 23:59:00       Tucson    AZ  2001-07-29  2001      7    23"
      ]
     },
     "execution_count": 30,
     "metadata": {},
     "output_type": "execute_result"
    }
   ],
   "source": [
    "# Parse 'Occurred' to datetime\n",
    "df_flat['Occurred'] = pd.to_datetime(\n",
    "    df_flat['Occurred'].astype(str).str.replace('Local', '').str.strip(),\n",
    "    errors='coerce'\n",
    ")\n",
    "\n",
    "# Drop rows with invalid dates\n",
    "df_flat = df_flat.dropna(subset=['Occurred'])\n",
    "\n",
    "# Split city/state\n",
    "df_flat[['City', 'State']] = df_flat['Location'].str.extract(r'^(.*?),\\s*([A-Z]{2})')\n",
    "\n",
    "# Extract datetime parts\n",
    "df_flat['date_only'] = df_flat['Occurred'].dt.date\n",
    "df_flat['year'] = df_flat['Occurred'].dt.year\n",
    "df_flat['month'] = df_flat['Occurred'].dt.month\n",
    "df_flat['hour'] = df_flat['Occurred'].dt.hour\n",
    "\n",
    "# Preview cleaned data\n",
    "df_flat[['Occurred', 'City', 'State', 'date_only', 'year', 'month', 'hour']].head()\n"
   ]
  },
  {
   "cell_type": "code",
   "execution_count": 24,
   "id": "add296eb",
   "metadata": {},
   "outputs": [
    {
     "name": "stdout",
     "output_type": "stream",
     "text": [
      "Index(['Sighting', 'Occurred', 'Location', 'Shape', 'Duration',\n",
      "       'No of observers', 'Reported', 'Posted', 'Summary', 'Text',\n",
      "       'Lights on object', 'Aura or haze around object', 'Aircraft nearby',\n",
      "       'Animals reacted', 'Left a trail', 'Emitted other objects',\n",
      "       'Changed Colo', 'Emitted beams', 'Location details', 'Changed Color',\n",
      "       'Electrical or magnetic effects', 'Explanation', 'Possible abduction',\n",
      "       'Missing Time', 'Marks found on body afterwards', 'Landed', 'City',\n",
      "       'State', 'date_only', 'year', 'month', 'hour'],\n",
      "      dtype='object')\n"
     ]
    }
   ],
   "source": [
    "print(df_flat.columns)\n"
   ]
  },
  {
   "cell_type": "code",
   "execution_count": 32,
   "id": "14fd26c4",
   "metadata": {},
   "outputs": [
    {
     "data": {
      "application/vnd.microsoft.datawrangler.viewer.v0+json": {
       "columns": [
        {
         "name": "index",
         "rawType": "int64",
         "type": "integer"
        },
        {
         "name": "Sighting",
         "rawType": "int64",
         "type": "integer"
        },
        {
         "name": "Occurred_ufo",
         "rawType": "datetime64[ns]",
         "type": "datetime"
        },
        {
         "name": "Location",
         "rawType": "object",
         "type": "string"
        },
        {
         "name": "Shape",
         "rawType": "object",
         "type": "string"
        },
        {
         "name": "Duration",
         "rawType": "object",
         "type": "string"
        },
        {
         "name": "No of observers",
         "rawType": "float64",
         "type": "float"
        },
        {
         "name": "Reported",
         "rawType": "object",
         "type": "string"
        },
        {
         "name": "Posted",
         "rawType": "object",
         "type": "string"
        },
        {
         "name": "Summary_ufo",
         "rawType": "object",
         "type": "string"
        },
        {
         "name": "Text",
         "rawType": "object",
         "type": "string"
        },
        {
         "name": "Lights on object",
         "rawType": "object",
         "type": "string"
        },
        {
         "name": "Aura or haze around object",
         "rawType": "object",
         "type": "string"
        },
        {
         "name": "Aircraft nearby",
         "rawType": "object",
         "type": "string"
        },
        {
         "name": "Animals reacted",
         "rawType": "object",
         "type": "string"
        },
        {
         "name": "Left a trail",
         "rawType": "object",
         "type": "string"
        },
        {
         "name": "Emitted other objects",
         "rawType": "object",
         "type": "string"
        },
        {
         "name": "Changed Colo",
         "rawType": "object",
         "type": "string"
        },
        {
         "name": "Emitted beams",
         "rawType": "object",
         "type": "string"
        },
        {
         "name": "Location details",
         "rawType": "object",
         "type": "string"
        },
        {
         "name": "Changed Color",
         "rawType": "object",
         "type": "string"
        },
        {
         "name": "Electrical or magnetic effects",
         "rawType": "object",
         "type": "string"
        },
        {
         "name": "Explanation",
         "rawType": "object",
         "type": "string"
        },
        {
         "name": "Possible abduction",
         "rawType": "object",
         "type": "string"
        },
        {
         "name": "Missing Time",
         "rawType": "object",
         "type": "string"
        },
        {
         "name": "Marks found on body afterwards",
         "rawType": "object",
         "type": "string"
        },
        {
         "name": "Landed",
         "rawType": "object",
         "type": "string"
        },
        {
         "name": "City",
         "rawType": "object",
         "type": "string"
        },
        {
         "name": "State",
         "rawType": "object",
         "type": "string"
        },
        {
         "name": "date_only",
         "rawType": "object",
         "type": "string"
        },
        {
         "name": "year_ufo",
         "rawType": "int32",
         "type": "integer"
        },
        {
         "name": "month_ufo",
         "rawType": "int32",
         "type": "integer"
        },
        {
         "name": "hour",
         "rawType": "int32",
         "type": "integer"
        },
        {
         "name": "Occurred_drone",
         "rawType": "datetime64[ns]",
         "type": "datetime"
        },
        {
         "name": "Day of Sighting",
         "rawType": "float64",
         "type": "float"
        },
        {
         "name": "Summary_drone",
         "rawType": "object",
         "type": "string"
        },
        {
         "name": "datetime",
         "rawType": "object",
         "type": "string"
        },
        {
         "name": "year_drone",
         "rawType": "int64",
         "type": "integer"
        },
        {
         "name": "month_drone",
         "rawType": "int64",
         "type": "integer"
        }
       ],
       "ref": "f76b2df0-cfea-47aa-9547-9bd3392410e6",
       "rows": [],
       "shape": {
        "columns": 38,
        "rows": 0
       }
      },
      "text/html": [
       "<div>\n",
       "<style scoped>\n",
       "    .dataframe tbody tr th:only-of-type {\n",
       "        vertical-align: middle;\n",
       "    }\n",
       "\n",
       "    .dataframe tbody tr th {\n",
       "        vertical-align: top;\n",
       "    }\n",
       "\n",
       "    .dataframe thead th {\n",
       "        text-align: right;\n",
       "    }\n",
       "</style>\n",
       "<table border=\"1\" class=\"dataframe\">\n",
       "  <thead>\n",
       "    <tr style=\"text-align: right;\">\n",
       "      <th></th>\n",
       "      <th>Sighting</th>\n",
       "      <th>Occurred_ufo</th>\n",
       "      <th>Location</th>\n",
       "      <th>Shape</th>\n",
       "      <th>Duration</th>\n",
       "      <th>No of observers</th>\n",
       "      <th>Reported</th>\n",
       "      <th>Posted</th>\n",
       "      <th>Summary_ufo</th>\n",
       "      <th>Text</th>\n",
       "      <th>...</th>\n",
       "      <th>date_only</th>\n",
       "      <th>year_ufo</th>\n",
       "      <th>month_ufo</th>\n",
       "      <th>hour</th>\n",
       "      <th>Occurred_drone</th>\n",
       "      <th>Day of Sighting</th>\n",
       "      <th>Summary_drone</th>\n",
       "      <th>datetime</th>\n",
       "      <th>year_drone</th>\n",
       "      <th>month_drone</th>\n",
       "    </tr>\n",
       "  </thead>\n",
       "  <tbody>\n",
       "  </tbody>\n",
       "</table>\n",
       "<p>0 rows × 38 columns</p>\n",
       "</div>"
      ],
      "text/plain": [
       "Empty DataFrame\n",
       "Columns: [Sighting, Occurred_ufo, Location, Shape, Duration, No of observers, Reported, Posted, Summary_ufo, Text, Lights on object, Aura or haze around object, Aircraft nearby, Animals reacted, Left a trail, Emitted other objects, Changed Colo, Emitted beams, Location details, Changed Color, Electrical or magnetic effects, Explanation, Possible abduction, Missing Time, Marks found on body afterwards, Landed, City, State, date_only, year_ufo, month_ufo, hour, Occurred_drone, Day of Sighting, Summary_drone, datetime, year_drone, month_drone]\n",
       "Index: []\n",
       "\n",
       "[0 rows x 38 columns]"
      ]
     },
     "execution_count": 32,
     "metadata": {},
     "output_type": "execute_result"
    }
   ],
   "source": [
    "# Standardize join fields in both datasets\n",
    "df_flat['City'] = df_flat['City'].str.strip().str.title()\n",
    "df_flat['State'] = df_flat['State'].str.strip().str.upper()\n",
    "\n",
    "drone_df['City'] = drone_df['City'].str.strip().str.title()\n",
    "drone_df['State'] = drone_df['State'].str.strip().str.upper()\n",
    "\n",
    "# Merge on date_only, City, and State\n",
    "merged_df = pd.merge(\n",
    "    df_flat,\n",
    "    drone_df,\n",
    "    how='inner',\n",
    "    on=['date_only', 'City', 'State'],\n",
    "    suffixes=('_ufo', '_drone')\n",
    ")\n",
    "\n",
    "# Preview merged data\n",
    "merged_df.head()\n"
   ]
  },
  {
   "cell_type": "code",
   "execution_count": 33,
   "id": "8e169baf",
   "metadata": {},
   "outputs": [],
   "source": [
    "# Rename 'Date' to 'Occurred' to match UFO data structure\n",
    "drone_df.rename(columns={'Date': 'Occurred'}, inplace=True)\n",
    "\n",
    "# Convert 'Occurred' to datetime\n",
    "drone_df['Occurred'] = pd.to_datetime(drone_df['Occurred'], errors='coerce')\n",
    "drone_df = drone_df.dropna(subset=['Occurred'])\n",
    "\n",
    "# Extract date only\n",
    "drone_df['date_only'] = drone_df['Occurred'].dt.date\n",
    "\n",
    "# Normalize City and State for consistent merge\n",
    "drone_df['City'] = drone_df['City'].str.strip().str.title()\n",
    "drone_df['State'] = drone_df['State'].str.strip().str.upper()\n"
   ]
  },
  {
   "cell_type": "code",
   "execution_count": 34,
   "id": "13169f63",
   "metadata": {},
   "outputs": [],
   "source": [
    "merged_df = pd.merge(\n",
    "    df_flat,\n",
    "    drone_df,\n",
    "    on=['date_only', 'City', 'State'],\n",
    "    how='inner',\n",
    "    suffixes=('_ufo', '_drone')\n",
    ")\n"
   ]
  },
  {
   "cell_type": "code",
   "execution_count": null,
   "id": "059f9895",
   "metadata": {},
   "outputs": [],
   "source": []
  }
 ],
 "metadata": {
  "kernelspec": {
   "display_name": "venv (3.13.1)",
   "language": "python",
   "name": "python3"
  },
  "language_info": {
   "codemirror_mode": {
    "name": "ipython",
    "version": 3
   },
   "file_extension": ".py",
   "mimetype": "text/x-python",
   "name": "python",
   "nbconvert_exporter": "python",
   "pygments_lexer": "ipython3",
   "version": "3.13.1"
  }
 },
 "nbformat": 4,
 "nbformat_minor": 5
}
