{
 "cells": [
  {
   "cell_type": "code",
   "execution_count": 8,
   "id": "f27ba3ec",
   "metadata": {},
   "outputs": [],
   "source": [
    "import pandas as pd"
   ]
  },
  {
   "cell_type": "code",
   "execution_count": 11,
   "id": "48024e42",
   "metadata": {},
   "outputs": [],
   "source": [
    "ufo_df = pd.read_csv(r'C:\\Users\\opiej\\ufo-analysis-capstone\\ufo-analysis-capstone\\data\\cleaned_drone_data.csv')\n",
    "drone_df = pd.read_csv(r'C:\\Users\\opiej\\ufo-analysis-capstone\\ufo-analysis-capstone\\data\\cleaned_drone_data.csv')"
   ]
  },
  {
   "cell_type": "code",
   "execution_count": 12,
   "id": "bbb47fdb",
   "metadata": {},
   "outputs": [],
   "source": [
    "ufo_df.columns = ufo_df.columns.str.strip().str.lower()\n",
    "drone_df.columns = drone_df.columns.str.strip().str.lower()"
   ]
  },
  {
   "cell_type": "code",
   "execution_count": 17,
   "id": "6ba23f4a",
   "metadata": {},
   "outputs": [],
   "source": [
    "merged_df = pd.merge(\n",
    "    ufo_df,\n",
    "    drone_df,\n",
    "    on=['city', 'state', 'year', 'month'],\n",
    "   \n",
    ")"
   ]
  },
  {
   "cell_type": "code",
   "execution_count": 18,
   "id": "bbe75bdd",
   "metadata": {},
   "outputs": [
    {
     "name": "stdout",
     "output_type": "stream",
     "text": [
      "             city     state      date_x  day of sighting_x  \\\n",
      "0  PATUXENT RIVER  MARYLAND  2022-07-01                NaN   \n",
      "1     LITTLE ROCK  ARKANSAS  2022-07-01                NaN   \n",
      "2     LITTLE ROCK  ARKANSAS  2022-07-01                NaN   \n",
      "3     LITTLE ROCK  ARKANSAS  2022-07-01                NaN   \n",
      "4           TAMPA   FLORIDA  2022-07-01                NaN   \n",
      "\n",
      "                                           summary_x  datetime_x  year  month  \\\n",
      "0  PRELIM INFO FROM FAA OPS: PATUXENT RIVER, MD/U...  2022-07-01  2022      7   \n",
      "1  PRELIM INFO FROM FAA OPS: LITTLE ROCK, AR/UAS ...  2022-07-01  2022      7   \n",
      "2  PRELIM INFO FROM FAA OPS: LITTLE ROCK, AR/UAS ...  2022-07-01  2022      7   \n",
      "3  PRELIM INFO FROM FAA OPS: LITTLE ROCK, AR/UAS ...  2022-07-01  2022      7   \n",
      "4  PRELIM INFO FROM FAA OPS: TAMPA, FL/UAS SIGHTI...  2022-07-01  2022      7   \n",
      "\n",
      "       date_y  day of sighting_y  \\\n",
      "0  2022-07-01                NaN   \n",
      "1  2022-07-01                NaN   \n",
      "2  2022-07-04                NaN   \n",
      "3  2022-07-10                NaN   \n",
      "4  2022-07-01                NaN   \n",
      "\n",
      "                                           summary_y  datetime_y  \n",
      "0  PRELIM INFO FROM FAA OPS: PATUXENT RIVER, MD/U...  2022-07-01  \n",
      "1  PRELIM INFO FROM FAA OPS: LITTLE ROCK, AR/UAS ...  2022-07-01  \n",
      "2  PRELIM INFO FROM FAA OPS: LITTLE ROCK, AR/UAS ...  2022-07-04  \n",
      "3  PRELIM INFO FROM FAA OPS: LITTLE ROCK, AR/UAS ...  2022-07-10  \n",
      "4  PRELIM INFO FROM FAA OPS: TAMPA, FL/UAS SIGHTI...  2022-07-01  \n",
      "Merged rows: 1653\n"
     ]
    }
   ],
   "source": [
    "print(merged_df.head())\n",
    "print(f\"Merged rows: {len(merged_df)}\")"
   ]
  },
  {
   "cell_type": "code",
   "execution_count": 19,
   "id": "daa6e4f6",
   "metadata": {},
   "outputs": [],
   "source": [
    "merged_df.to_csv(\"merged_ufo_drone_data.csv\", index=False)\n"
   ]
  }
 ],
 "metadata": {
  "kernelspec": {
   "display_name": "venv (3.13.1)",
   "language": "python",
   "name": "python3"
  },
  "language_info": {
   "codemirror_mode": {
    "name": "ipython",
    "version": 3
   },
   "file_extension": ".py",
   "mimetype": "text/x-python",
   "name": "python",
   "nbconvert_exporter": "python",
   "pygments_lexer": "ipython3",
   "version": "3.13.1"
  }
 },
 "nbformat": 4,
 "nbformat_minor": 5
}
