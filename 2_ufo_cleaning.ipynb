{
 "cells": [
  {
   "cell_type": "code",
   "execution_count": 5,
   "id": "919e501b",
   "metadata": {},
   "outputs": [
    {
     "ename": "ParserError",
     "evalue": "Error tokenizing data. C error: Expected 11 fields in line 878, saw 12\n",
     "output_type": "error",
     "traceback": [
      "\u001b[31m---------------------------------------------------------------------------\u001b[39m",
      "\u001b[31mParserError\u001b[39m                               Traceback (most recent call last)",
      "\u001b[36mCell\u001b[39m\u001b[36m \u001b[39m\u001b[32mIn[5]\u001b[39m\u001b[32m, line 4\u001b[39m\n\u001b[32m      1\u001b[39m \u001b[38;5;28;01mimport\u001b[39;00m\u001b[38;5;250m \u001b[39m\u001b[34;01mpandas\u001b[39;00m\u001b[38;5;250m \u001b[39m\u001b[38;5;28;01mas\u001b[39;00m\u001b[38;5;250m \u001b[39m\u001b[34;01mpd\u001b[39;00m\n\u001b[32m      3\u001b[39m \u001b[38;5;66;03m# Load the cleaned UFO sightings CSV\u001b[39;00m\n\u001b[32m----> \u001b[39m\u001b[32m4\u001b[39m ufo_df = \u001b[43mpd\u001b[49m\u001b[43m.\u001b[49m\u001b[43mread_csv\u001b[49m\u001b[43m(\u001b[49m\u001b[33;43mr\u001b[39;49m\u001b[33;43m'\u001b[39;49m\u001b[33;43mC:\u001b[39;49m\u001b[33;43m\\\u001b[39;49m\u001b[33;43mUsers\u001b[39;49m\u001b[33;43m\\\u001b[39;49m\u001b[33;43mopiej\u001b[39;49m\u001b[33;43m\\\u001b[39;49m\u001b[33;43mufo-analysis-capstone\u001b[39;49m\u001b[33;43m\\\u001b[39;49m\u001b[33;43mufo-analysis-capstone\u001b[39;49m\u001b[33;43m\\\u001b[39;49m\u001b[33;43mdata\u001b[39;49m\u001b[33;43m\\\u001b[39;49m\u001b[33;43mufo_sightings_clean.csv.csv\u001b[39;49m\u001b[33;43m'\u001b[39;49m\u001b[43m)\u001b[49m\n\u001b[32m      6\u001b[39m \u001b[38;5;66;03m# Show first few rows\u001b[39;00m\n\u001b[32m      7\u001b[39m ufo_df.head()\n",
      "\u001b[36mFile \u001b[39m\u001b[32mc:\\Users\\opiej\\ufo-analysis-capstone\\ufo-analysis-capstone\\venv\\Lib\\site-packages\\pandas\\io\\parsers\\readers.py:1026\u001b[39m, in \u001b[36mread_csv\u001b[39m\u001b[34m(filepath_or_buffer, sep, delimiter, header, names, index_col, usecols, dtype, engine, converters, true_values, false_values, skipinitialspace, skiprows, skipfooter, nrows, na_values, keep_default_na, na_filter, verbose, skip_blank_lines, parse_dates, infer_datetime_format, keep_date_col, date_parser, date_format, dayfirst, cache_dates, iterator, chunksize, compression, thousands, decimal, lineterminator, quotechar, quoting, doublequote, escapechar, comment, encoding, encoding_errors, dialect, on_bad_lines, delim_whitespace, low_memory, memory_map, float_precision, storage_options, dtype_backend)\u001b[39m\n\u001b[32m   1013\u001b[39m kwds_defaults = _refine_defaults_read(\n\u001b[32m   1014\u001b[39m     dialect,\n\u001b[32m   1015\u001b[39m     delimiter,\n\u001b[32m   (...)\u001b[39m\u001b[32m   1022\u001b[39m     dtype_backend=dtype_backend,\n\u001b[32m   1023\u001b[39m )\n\u001b[32m   1024\u001b[39m kwds.update(kwds_defaults)\n\u001b[32m-> \u001b[39m\u001b[32m1026\u001b[39m \u001b[38;5;28;01mreturn\u001b[39;00m \u001b[43m_read\u001b[49m\u001b[43m(\u001b[49m\u001b[43mfilepath_or_buffer\u001b[49m\u001b[43m,\u001b[49m\u001b[43m \u001b[49m\u001b[43mkwds\u001b[49m\u001b[43m)\u001b[49m\n",
      "\u001b[36mFile \u001b[39m\u001b[32mc:\\Users\\opiej\\ufo-analysis-capstone\\ufo-analysis-capstone\\venv\\Lib\\site-packages\\pandas\\io\\parsers\\readers.py:626\u001b[39m, in \u001b[36m_read\u001b[39m\u001b[34m(filepath_or_buffer, kwds)\u001b[39m\n\u001b[32m    623\u001b[39m     \u001b[38;5;28;01mreturn\u001b[39;00m parser\n\u001b[32m    625\u001b[39m \u001b[38;5;28;01mwith\u001b[39;00m parser:\n\u001b[32m--> \u001b[39m\u001b[32m626\u001b[39m     \u001b[38;5;28;01mreturn\u001b[39;00m \u001b[43mparser\u001b[49m\u001b[43m.\u001b[49m\u001b[43mread\u001b[49m\u001b[43m(\u001b[49m\u001b[43mnrows\u001b[49m\u001b[43m)\u001b[49m\n",
      "\u001b[36mFile \u001b[39m\u001b[32mc:\\Users\\opiej\\ufo-analysis-capstone\\ufo-analysis-capstone\\venv\\Lib\\site-packages\\pandas\\io\\parsers\\readers.py:1923\u001b[39m, in \u001b[36mTextFileReader.read\u001b[39m\u001b[34m(self, nrows)\u001b[39m\n\u001b[32m   1916\u001b[39m nrows = validate_integer(\u001b[33m\"\u001b[39m\u001b[33mnrows\u001b[39m\u001b[33m\"\u001b[39m, nrows)\n\u001b[32m   1917\u001b[39m \u001b[38;5;28;01mtry\u001b[39;00m:\n\u001b[32m   1918\u001b[39m     \u001b[38;5;66;03m# error: \"ParserBase\" has no attribute \"read\"\u001b[39;00m\n\u001b[32m   1919\u001b[39m     (\n\u001b[32m   1920\u001b[39m         index,\n\u001b[32m   1921\u001b[39m         columns,\n\u001b[32m   1922\u001b[39m         col_dict,\n\u001b[32m-> \u001b[39m\u001b[32m1923\u001b[39m     ) = \u001b[38;5;28;43mself\u001b[39;49m\u001b[43m.\u001b[49m\u001b[43m_engine\u001b[49m\u001b[43m.\u001b[49m\u001b[43mread\u001b[49m\u001b[43m(\u001b[49m\u001b[43m  \u001b[49m\u001b[38;5;66;43;03m# type: ignore[attr-defined]\u001b[39;49;00m\n\u001b[32m   1924\u001b[39m \u001b[43m        \u001b[49m\u001b[43mnrows\u001b[49m\n\u001b[32m   1925\u001b[39m \u001b[43m    \u001b[49m\u001b[43m)\u001b[49m\n\u001b[32m   1926\u001b[39m \u001b[38;5;28;01mexcept\u001b[39;00m \u001b[38;5;167;01mException\u001b[39;00m:\n\u001b[32m   1927\u001b[39m     \u001b[38;5;28mself\u001b[39m.close()\n",
      "\u001b[36mFile \u001b[39m\u001b[32mc:\\Users\\opiej\\ufo-analysis-capstone\\ufo-analysis-capstone\\venv\\Lib\\site-packages\\pandas\\io\\parsers\\c_parser_wrapper.py:234\u001b[39m, in \u001b[36mCParserWrapper.read\u001b[39m\u001b[34m(self, nrows)\u001b[39m\n\u001b[32m    232\u001b[39m \u001b[38;5;28;01mtry\u001b[39;00m:\n\u001b[32m    233\u001b[39m     \u001b[38;5;28;01mif\u001b[39;00m \u001b[38;5;28mself\u001b[39m.low_memory:\n\u001b[32m--> \u001b[39m\u001b[32m234\u001b[39m         chunks = \u001b[38;5;28;43mself\u001b[39;49m\u001b[43m.\u001b[49m\u001b[43m_reader\u001b[49m\u001b[43m.\u001b[49m\u001b[43mread_low_memory\u001b[49m\u001b[43m(\u001b[49m\u001b[43mnrows\u001b[49m\u001b[43m)\u001b[49m\n\u001b[32m    235\u001b[39m         \u001b[38;5;66;03m# destructive to chunks\u001b[39;00m\n\u001b[32m    236\u001b[39m         data = _concatenate_chunks(chunks)\n",
      "\u001b[36mFile \u001b[39m\u001b[32mpandas/_libs/parsers.pyx:838\u001b[39m, in \u001b[36mpandas._libs.parsers.TextReader.read_low_memory\u001b[39m\u001b[34m()\u001b[39m\n",
      "\u001b[36mFile \u001b[39m\u001b[32mpandas/_libs/parsers.pyx:905\u001b[39m, in \u001b[36mpandas._libs.parsers.TextReader._read_rows\u001b[39m\u001b[34m()\u001b[39m\n",
      "\u001b[36mFile \u001b[39m\u001b[32mpandas/_libs/parsers.pyx:874\u001b[39m, in \u001b[36mpandas._libs.parsers.TextReader._tokenize_rows\u001b[39m\u001b[34m()\u001b[39m\n",
      "\u001b[36mFile \u001b[39m\u001b[32mpandas/_libs/parsers.pyx:891\u001b[39m, in \u001b[36mpandas._libs.parsers.TextReader._check_tokenize_status\u001b[39m\u001b[34m()\u001b[39m\n",
      "\u001b[36mFile \u001b[39m\u001b[32mpandas/_libs/parsers.pyx:2061\u001b[39m, in \u001b[36mpandas._libs.parsers.raise_parser_error\u001b[39m\u001b[34m()\u001b[39m\n",
      "\u001b[31mParserError\u001b[39m: Error tokenizing data. C error: Expected 11 fields in line 878, saw 12\n"
     ]
    }
   ],
   "source": [
    "import pandas as pd\n",
    "\n",
    "# Load the cleaned UFO sightings CSV\n",
    "ufo_df = pd.read_csv(r'C:\\Users\\opiej\\ufo-analysis-capstone\\ufo-analysis-capstone\\data\\ufo_sightings_clean.csv.csv')\n",
    "\n",
    "# Show first few rows\n",
    "ufo_df.head()\n"
   ]
  },
  {
   "cell_type": "code",
   "execution_count": 6,
   "id": "ab9d94f0",
   "metadata": {},
   "outputs": [
    {
     "name": "stderr",
     "output_type": "stream",
     "text": [
      "C:\\Users\\opiej\\AppData\\Local\\Temp\\ipykernel_12316\\713049143.py:1: DtypeWarning: Columns (5,9) have mixed types. Specify dtype option on import or set low_memory=False.\n",
      "  ufo_df = pd.read_csv(\n"
     ]
    }
   ],
   "source": [
    "ufo_df = pd.read_csv(\n",
    "    r'C:\\Users\\opiej\\ufo-analysis-capstone\\ufo-analysis-capstone\\data\\ufo_sightings_clean.csv.csv',\n",
    "    on_bad_lines='skip' \n",
    ")\n"
   ]
  },
  {
   "cell_type": "code",
   "execution_count": 7,
   "id": "62c73142",
   "metadata": {},
   "outputs": [],
   "source": [
    "ufo_df = pd.read_csv(\n",
    "    r'C:\\Users\\opiej\\ufo-analysis-capstone\\ufo-analysis-capstone\\data\\ufo_sightings_clean.csv.csv',\n",
    "    on_bad_lines='skip',\n",
    "    low_memory=False\n",
    ")\n"
   ]
  },
  {
   "cell_type": "code",
   "execution_count": 8,
   "id": "d61bfa1f",
   "metadata": {},
   "outputs": [
    {
     "data": {
      "application/vnd.microsoft.datawrangler.viewer.v0+json": {
       "columns": [
        {
         "name": "index",
         "rawType": "int64",
         "type": "integer"
        },
        {
         "name": "datetime",
         "rawType": "object",
         "type": "string"
        },
        {
         "name": "city",
         "rawType": "object",
         "type": "string"
        },
        {
         "name": "state",
         "rawType": "object",
         "type": "unknown"
        },
        {
         "name": "country",
         "rawType": "object",
         "type": "unknown"
        },
        {
         "name": "shape",
         "rawType": "object",
         "type": "string"
        },
        {
         "name": "duration (seconds)",
         "rawType": "object",
         "type": "string"
        },
        {
         "name": "duration (hours/min)",
         "rawType": "object",
         "type": "string"
        },
        {
         "name": "comments",
         "rawType": "object",
         "type": "string"
        },
        {
         "name": "date posted",
         "rawType": "object",
         "type": "string"
        },
        {
         "name": "latitude",
         "rawType": "object",
         "type": "string"
        },
        {
         "name": "longitude",
         "rawType": "float64",
         "type": "float"
        }
       ],
       "ref": "6c9b1aef-5b42-4827-a01e-bc6ac0bc7538",
       "rows": [
        [
         "0",
         "10/10/1949 20:30",
         "san marcos",
         "tx",
         "us",
         "cylinder",
         "2700",
         "45 minutes",
         "This event took place in early fall around 1949-50. It occurred after a Boy Scout meeting in the Baptist Church. The Baptist Church sit",
         "4/27/2004",
         "29.8830556",
         "-97.9411111"
        ],
        [
         "1",
         "10/10/1949 21:00",
         "lackland afb",
         "tx",
         null,
         "light",
         "7200",
         "1-2 hrs",
         "1949 Lackland AFB&#44 TX.  Lights racing across the sky &amp; making 90 degree turns on a dime.",
         "12/16/2005",
         "29.38421",
         "-98.581082"
        ],
        [
         "2",
         "10/10/1955 17:00",
         "chester (uk/england)",
         null,
         "gb",
         "circle",
         "20",
         "20 seconds",
         "Green/Orange circular disc over Chester&#44 England",
         "1/21/2008",
         "53.2",
         "-2.916667"
        ],
        [
         "3",
         "10/10/1956 21:00",
         "edna",
         "tx",
         "us",
         "circle",
         "20",
         "1/2 hour",
         "My older brother and twin sister were leaving the only Edna theater at about 9 PM&#44...we had our bikes and I took a different route home",
         "1/17/2004",
         "28.9783333",
         "-96.6458333"
        ],
        [
         "4",
         "10/10/1960 20:00",
         "kaneohe",
         "hi",
         "us",
         "light",
         "900",
         "15 minutes",
         "AS a Marine 1st Lt. flying an FJ4B fighter/attack aircraft on a solo night exercise&#44 I was at 50&#44000&#39 in a &quot;clean&quot; aircraft (no ordinan",
         "1/22/2004",
         "21.4180556",
         "-157.8036111"
        ]
       ],
       "shape": {
        "columns": 11,
        "rows": 5
       }
      },
      "text/html": [
       "<div>\n",
       "<style scoped>\n",
       "    .dataframe tbody tr th:only-of-type {\n",
       "        vertical-align: middle;\n",
       "    }\n",
       "\n",
       "    .dataframe tbody tr th {\n",
       "        vertical-align: top;\n",
       "    }\n",
       "\n",
       "    .dataframe thead th {\n",
       "        text-align: right;\n",
       "    }\n",
       "</style>\n",
       "<table border=\"1\" class=\"dataframe\">\n",
       "  <thead>\n",
       "    <tr style=\"text-align: right;\">\n",
       "      <th></th>\n",
       "      <th>datetime</th>\n",
       "      <th>city</th>\n",
       "      <th>state</th>\n",
       "      <th>country</th>\n",
       "      <th>shape</th>\n",
       "      <th>duration (seconds)</th>\n",
       "      <th>duration (hours/min)</th>\n",
       "      <th>comments</th>\n",
       "      <th>date posted</th>\n",
       "      <th>latitude</th>\n",
       "      <th>longitude</th>\n",
       "    </tr>\n",
       "  </thead>\n",
       "  <tbody>\n",
       "    <tr>\n",
       "      <th>0</th>\n",
       "      <td>10/10/1949 20:30</td>\n",
       "      <td>san marcos</td>\n",
       "      <td>tx</td>\n",
       "      <td>us</td>\n",
       "      <td>cylinder</td>\n",
       "      <td>2700</td>\n",
       "      <td>45 minutes</td>\n",
       "      <td>This event took place in early fall around 194...</td>\n",
       "      <td>4/27/2004</td>\n",
       "      <td>29.8830556</td>\n",
       "      <td>-97.941111</td>\n",
       "    </tr>\n",
       "    <tr>\n",
       "      <th>1</th>\n",
       "      <td>10/10/1949 21:00</td>\n",
       "      <td>lackland afb</td>\n",
       "      <td>tx</td>\n",
       "      <td>NaN</td>\n",
       "      <td>light</td>\n",
       "      <td>7200</td>\n",
       "      <td>1-2 hrs</td>\n",
       "      <td>1949 Lackland AFB&amp;#44 TX.  Lights racing acros...</td>\n",
       "      <td>12/16/2005</td>\n",
       "      <td>29.38421</td>\n",
       "      <td>-98.581082</td>\n",
       "    </tr>\n",
       "    <tr>\n",
       "      <th>2</th>\n",
       "      <td>10/10/1955 17:00</td>\n",
       "      <td>chester (uk/england)</td>\n",
       "      <td>NaN</td>\n",
       "      <td>gb</td>\n",
       "      <td>circle</td>\n",
       "      <td>20</td>\n",
       "      <td>20 seconds</td>\n",
       "      <td>Green/Orange circular disc over Chester&amp;#44 En...</td>\n",
       "      <td>1/21/2008</td>\n",
       "      <td>53.2</td>\n",
       "      <td>-2.916667</td>\n",
       "    </tr>\n",
       "    <tr>\n",
       "      <th>3</th>\n",
       "      <td>10/10/1956 21:00</td>\n",
       "      <td>edna</td>\n",
       "      <td>tx</td>\n",
       "      <td>us</td>\n",
       "      <td>circle</td>\n",
       "      <td>20</td>\n",
       "      <td>1/2 hour</td>\n",
       "      <td>My older brother and twin sister were leaving ...</td>\n",
       "      <td>1/17/2004</td>\n",
       "      <td>28.9783333</td>\n",
       "      <td>-96.645833</td>\n",
       "    </tr>\n",
       "    <tr>\n",
       "      <th>4</th>\n",
       "      <td>10/10/1960 20:00</td>\n",
       "      <td>kaneohe</td>\n",
       "      <td>hi</td>\n",
       "      <td>us</td>\n",
       "      <td>light</td>\n",
       "      <td>900</td>\n",
       "      <td>15 minutes</td>\n",
       "      <td>AS a Marine 1st Lt. flying an FJ4B fighter/att...</td>\n",
       "      <td>1/22/2004</td>\n",
       "      <td>21.4180556</td>\n",
       "      <td>-157.803611</td>\n",
       "    </tr>\n",
       "  </tbody>\n",
       "</table>\n",
       "</div>"
      ],
      "text/plain": [
       "           datetime                  city state country     shape  \\\n",
       "0  10/10/1949 20:30            san marcos    tx      us  cylinder   \n",
       "1  10/10/1949 21:00          lackland afb    tx     NaN     light   \n",
       "2  10/10/1955 17:00  chester (uk/england)   NaN      gb    circle   \n",
       "3  10/10/1956 21:00                  edna    tx      us    circle   \n",
       "4  10/10/1960 20:00               kaneohe    hi      us     light   \n",
       "\n",
       "  duration (seconds) duration (hours/min)  \\\n",
       "0               2700           45 minutes   \n",
       "1               7200              1-2 hrs   \n",
       "2                 20           20 seconds   \n",
       "3                 20             1/2 hour   \n",
       "4                900           15 minutes   \n",
       "\n",
       "                                            comments date posted    latitude  \\\n",
       "0  This event took place in early fall around 194...   4/27/2004  29.8830556   \n",
       "1  1949 Lackland AFB&#44 TX.  Lights racing acros...  12/16/2005    29.38421   \n",
       "2  Green/Orange circular disc over Chester&#44 En...   1/21/2008        53.2   \n",
       "3  My older brother and twin sister were leaving ...   1/17/2004  28.9783333   \n",
       "4  AS a Marine 1st Lt. flying an FJ4B fighter/att...   1/22/2004  21.4180556   \n",
       "\n",
       "    longitude  \n",
       "0  -97.941111  \n",
       "1  -98.581082  \n",
       "2   -2.916667  \n",
       "3  -96.645833  \n",
       "4 -157.803611  "
      ]
     },
     "execution_count": 8,
     "metadata": {},
     "output_type": "execute_result"
    }
   ],
   "source": [
    "import pandas as pd\n",
    "\n",
    "ufo_df = pd.read_csv(\n",
    "    r'C:\\Users\\opiej\\ufo-analysis-capstone\\ufo-analysis-capstone\\data\\ufo_sightings_clean.csv.csv',\n",
    "    on_bad_lines='skip',\n",
    "    low_memory=False\n",
    ")\n",
    "\n",
    "ufo_df.head()\n"
   ]
  },
  {
   "cell_type": "code",
   "execution_count": 9,
   "id": "fa70372f",
   "metadata": {},
   "outputs": [
    {
     "data": {
      "text/plain": [
       "Index(['datetime', 'city', 'state', 'country', 'shape', 'duration (seconds)',\n",
       "       'duration (hours/min)', 'comments', 'date posted', 'latitude',\n",
       "       'longitude'],\n",
       "      dtype='object')"
      ]
     },
     "execution_count": 9,
     "metadata": {},
     "output_type": "execute_result"
    }
   ],
   "source": [
    "ufo_df.columns\n"
   ]
  },
  {
   "cell_type": "code",
   "execution_count": 10,
   "id": "d4252ac9",
   "metadata": {},
   "outputs": [],
   "source": [
    "ufo_df = ufo_df.dropna(subset=[\n",
    "    'datetime', 'city', 'state', 'shape', 'latitude', 'longitude'\n",
    "])\n"
   ]
  },
  {
   "cell_type": "code",
   "execution_count": 11,
   "id": "ed8c247c",
   "metadata": {},
   "outputs": [],
   "source": [
    "ufo_df['datetime'] = pd.to_datetime(ufo_df['datetime'], errors='coerce')\n",
    "\n",
    "# Drop rows where datetime could not be parsed\n",
    "ufo_df = ufo_df.dropna(subset=['datetime'])\n"
   ]
  },
  {
   "cell_type": "code",
   "execution_count": 12,
   "id": "fbb83d48",
   "metadata": {},
   "outputs": [],
   "source": [
    "ufo_df['year'] = ufo_df['datetime'].dt.year\n",
    "ufo_df['month'] = ufo_df['datetime'].dt.month\n",
    "ufo_df['hour'] = ufo_df['datetime'].dt.hour\n"
   ]
  },
  {
   "cell_type": "code",
   "execution_count": 13,
   "id": "95ddfb70",
   "metadata": {},
   "outputs": [],
   "source": [
    "ufo_df.rename(columns={\n",
    "    'duration (seconds)': 'duration_sec',\n",
    "    'duration (hours/min)': 'duration_text',\n",
    "    'date posted': 'posted_date'\n",
    "}, inplace=True)\n"
   ]
  },
  {
   "cell_type": "code",
   "execution_count": 14,
   "id": "43e4a398",
   "metadata": {},
   "outputs": [],
   "source": [
    "ufo_df.to_csv(\n",
    "    r'C:\\Users\\opiej\\ufo-analysis-capstone\\ufo-analysis-capstone\\data\\cleaned_ufo_data.csv',\n",
    "    index=False\n",
    ")\n"
   ]
  },
  {
   "cell_type": "code",
   "execution_count": 15,
   "id": "e16a1d6b",
   "metadata": {},
   "outputs": [
    {
     "data": {
      "application/vnd.microsoft.datawrangler.viewer.v0+json": {
       "columns": [
        {
         "name": "shape",
         "rawType": "object",
         "type": "string"
        },
        {
         "name": "count",
         "rawType": "int64",
         "type": "integer"
        }
       ],
       "ref": "1cb6b42b-770c-4470-ac54-638b166f3d39",
       "rows": [
        [
         "light",
         "16394"
        ],
        [
         "triangle",
         "7855"
        ],
        [
         "circle",
         "7522"
        ],
        [
         "fireball",
         "6060"
        ],
        [
         "unknown",
         "5769"
        ],
        [
         "other",
         "5610"
        ],
        [
         "disk",
         "5295"
        ],
        [
         "sphere",
         "5205"
        ],
        [
         "oval",
         "3701"
        ],
        [
         "formation",
         "2413"
        ]
       ],
       "shape": {
        "columns": 1,
        "rows": 10
       }
      },
      "text/plain": [
       "shape\n",
       "light        16394\n",
       "triangle      7855\n",
       "circle        7522\n",
       "fireball      6060\n",
       "unknown       5769\n",
       "other         5610\n",
       "disk          5295\n",
       "sphere        5205\n",
       "oval          3701\n",
       "formation     2413\n",
       "Name: count, dtype: int64"
      ]
     },
     "execution_count": 15,
     "metadata": {},
     "output_type": "execute_result"
    }
   ],
   "source": [
    "ufo_df['shape'].value_counts().head(10)\n"
   ]
  },
  {
   "cell_type": "code",
   "execution_count": 16,
   "id": "d6e8f9c1",
   "metadata": {},
   "outputs": [
    {
     "ename": "ValueError",
     "evalue": "All arrays must be of the same length",
     "output_type": "error",
     "traceback": [
      "\u001b[31m---------------------------------------------------------------------------\u001b[39m",
      "\u001b[31mValueError\u001b[39m                                Traceback (most recent call last)",
      "\u001b[36mCell\u001b[39m\u001b[36m \u001b[39m\u001b[32mIn[16]\u001b[39m\u001b[32m, line 4\u001b[39m\n\u001b[32m      1\u001b[39m \u001b[38;5;28;01mimport\u001b[39;00m\u001b[38;5;250m \u001b[39m\u001b[34;01mpandas\u001b[39;00m\u001b[38;5;250m \u001b[39m\u001b[38;5;28;01mas\u001b[39;00m\u001b[38;5;250m \u001b[39m\u001b[34;01mpd\u001b[39;00m\n\u001b[32m----> \u001b[39m\u001b[32m4\u001b[39m ufo_df = \u001b[43mpd\u001b[49m\u001b[43m.\u001b[49m\u001b[43mread_json\u001b[49m\u001b[43m(\u001b[49m\u001b[33;43mr\u001b[39;49m\u001b[33;43m'\u001b[39;49m\u001b[33;43mC:\u001b[39;49m\u001b[33;43m\\\u001b[39;49m\u001b[33;43mUsers\u001b[39;49m\u001b[33;43m\\\u001b[39;49m\u001b[33;43mopiej\u001b[39;49m\u001b[33;43m\\\u001b[39;49m\u001b[33;43mufo-analysis-capstone\u001b[39;49m\u001b[33;43m\\\u001b[39;49m\u001b[33;43mufo-analysis-capstone\u001b[39;49m\u001b[33;43m\\\u001b[39;49m\u001b[33;43mdata\u001b[39;49m\u001b[33;43m\\\u001b[39;49m\u001b[33;43mufo.json\u001b[39;49m\u001b[33;43m'\u001b[39;49m\u001b[43m)\u001b[49m\n\u001b[32m      7\u001b[39m ufo_df.head()\n\u001b[32m      8\u001b[39m ufo_df.columns\n",
      "\u001b[36mFile \u001b[39m\u001b[32mc:\\Users\\opiej\\ufo-analysis-capstone\\ufo-analysis-capstone\\venv\\Lib\\site-packages\\pandas\\io\\json\\_json.py:815\u001b[39m, in \u001b[36mread_json\u001b[39m\u001b[34m(path_or_buf, orient, typ, dtype, convert_axes, convert_dates, keep_default_dates, precise_float, date_unit, encoding, encoding_errors, lines, chunksize, compression, nrows, storage_options, dtype_backend, engine)\u001b[39m\n\u001b[32m    813\u001b[39m     \u001b[38;5;28;01mreturn\u001b[39;00m json_reader\n\u001b[32m    814\u001b[39m \u001b[38;5;28;01melse\u001b[39;00m:\n\u001b[32m--> \u001b[39m\u001b[32m815\u001b[39m     \u001b[38;5;28;01mreturn\u001b[39;00m \u001b[43mjson_reader\u001b[49m\u001b[43m.\u001b[49m\u001b[43mread\u001b[49m\u001b[43m(\u001b[49m\u001b[43m)\u001b[49m\n",
      "\u001b[36mFile \u001b[39m\u001b[32mc:\\Users\\opiej\\ufo-analysis-capstone\\ufo-analysis-capstone\\venv\\Lib\\site-packages\\pandas\\io\\json\\_json.py:1014\u001b[39m, in \u001b[36mJsonReader.read\u001b[39m\u001b[34m(self)\u001b[39m\n\u001b[32m   1012\u001b[39m         obj = \u001b[38;5;28mself\u001b[39m._get_object_parser(\u001b[38;5;28mself\u001b[39m._combine_lines(data_lines))\n\u001b[32m   1013\u001b[39m \u001b[38;5;28;01melse\u001b[39;00m:\n\u001b[32m-> \u001b[39m\u001b[32m1014\u001b[39m     obj = \u001b[38;5;28;43mself\u001b[39;49m\u001b[43m.\u001b[49m\u001b[43m_get_object_parser\u001b[49m\u001b[43m(\u001b[49m\u001b[38;5;28;43mself\u001b[39;49m\u001b[43m.\u001b[49m\u001b[43mdata\u001b[49m\u001b[43m)\u001b[49m\n\u001b[32m   1015\u001b[39m \u001b[38;5;28;01mif\u001b[39;00m \u001b[38;5;28mself\u001b[39m.dtype_backend \u001b[38;5;129;01mis\u001b[39;00m \u001b[38;5;129;01mnot\u001b[39;00m lib.no_default:\n\u001b[32m   1016\u001b[39m     \u001b[38;5;28;01mreturn\u001b[39;00m obj.convert_dtypes(\n\u001b[32m   1017\u001b[39m         infer_objects=\u001b[38;5;28;01mFalse\u001b[39;00m, dtype_backend=\u001b[38;5;28mself\u001b[39m.dtype_backend\n\u001b[32m   1018\u001b[39m     )\n",
      "\u001b[36mFile \u001b[39m\u001b[32mc:\\Users\\opiej\\ufo-analysis-capstone\\ufo-analysis-capstone\\venv\\Lib\\site-packages\\pandas\\io\\json\\_json.py:1040\u001b[39m, in \u001b[36mJsonReader._get_object_parser\u001b[39m\u001b[34m(self, json)\u001b[39m\n\u001b[32m   1038\u001b[39m obj = \u001b[38;5;28;01mNone\u001b[39;00m\n\u001b[32m   1039\u001b[39m \u001b[38;5;28;01mif\u001b[39;00m typ == \u001b[33m\"\u001b[39m\u001b[33mframe\u001b[39m\u001b[33m\"\u001b[39m:\n\u001b[32m-> \u001b[39m\u001b[32m1040\u001b[39m     obj = \u001b[43mFrameParser\u001b[49m\u001b[43m(\u001b[49m\u001b[43mjson\u001b[49m\u001b[43m,\u001b[49m\u001b[43m \u001b[49m\u001b[43m*\u001b[49m\u001b[43m*\u001b[49m\u001b[43mkwargs\u001b[49m\u001b[43m)\u001b[49m\u001b[43m.\u001b[49m\u001b[43mparse\u001b[49m\u001b[43m(\u001b[49m\u001b[43m)\u001b[49m\n\u001b[32m   1042\u001b[39m \u001b[38;5;28;01mif\u001b[39;00m typ == \u001b[33m\"\u001b[39m\u001b[33mseries\u001b[39m\u001b[33m\"\u001b[39m \u001b[38;5;129;01mor\u001b[39;00m obj \u001b[38;5;129;01mis\u001b[39;00m \u001b[38;5;28;01mNone\u001b[39;00m:\n\u001b[32m   1043\u001b[39m     \u001b[38;5;28;01mif\u001b[39;00m \u001b[38;5;129;01mnot\u001b[39;00m \u001b[38;5;28misinstance\u001b[39m(dtype, \u001b[38;5;28mbool\u001b[39m):\n",
      "\u001b[36mFile \u001b[39m\u001b[32mc:\\Users\\opiej\\ufo-analysis-capstone\\ufo-analysis-capstone\\venv\\Lib\\site-packages\\pandas\\io\\json\\_json.py:1176\u001b[39m, in \u001b[36mParser.parse\u001b[39m\u001b[34m(self)\u001b[39m\n\u001b[32m   1174\u001b[39m \u001b[38;5;129m@final\u001b[39m\n\u001b[32m   1175\u001b[39m \u001b[38;5;28;01mdef\u001b[39;00m\u001b[38;5;250m \u001b[39m\u001b[34mparse\u001b[39m(\u001b[38;5;28mself\u001b[39m):\n\u001b[32m-> \u001b[39m\u001b[32m1176\u001b[39m     \u001b[38;5;28;43mself\u001b[39;49m\u001b[43m.\u001b[49m\u001b[43m_parse\u001b[49m\u001b[43m(\u001b[49m\u001b[43m)\u001b[49m\n\u001b[32m   1178\u001b[39m     \u001b[38;5;28;01mif\u001b[39;00m \u001b[38;5;28mself\u001b[39m.obj \u001b[38;5;129;01mis\u001b[39;00m \u001b[38;5;28;01mNone\u001b[39;00m:\n\u001b[32m   1179\u001b[39m         \u001b[38;5;28;01mreturn\u001b[39;00m \u001b[38;5;28;01mNone\u001b[39;00m\n",
      "\u001b[36mFile \u001b[39m\u001b[32mc:\\Users\\opiej\\ufo-analysis-capstone\\ufo-analysis-capstone\\venv\\Lib\\site-packages\\pandas\\io\\json\\_json.py:1391\u001b[39m, in \u001b[36mFrameParser._parse\u001b[39m\u001b[34m(self)\u001b[39m\n\u001b[32m   1388\u001b[39m orient = \u001b[38;5;28mself\u001b[39m.orient\n\u001b[32m   1390\u001b[39m \u001b[38;5;28;01mif\u001b[39;00m orient == \u001b[33m\"\u001b[39m\u001b[33mcolumns\u001b[39m\u001b[33m\"\u001b[39m:\n\u001b[32m-> \u001b[39m\u001b[32m1391\u001b[39m     \u001b[38;5;28mself\u001b[39m.obj = \u001b[43mDataFrame\u001b[49m\u001b[43m(\u001b[49m\n\u001b[32m   1392\u001b[39m \u001b[43m        \u001b[49m\u001b[43mujson_loads\u001b[49m\u001b[43m(\u001b[49m\u001b[43mjson\u001b[49m\u001b[43m,\u001b[49m\u001b[43m \u001b[49m\u001b[43mprecise_float\u001b[49m\u001b[43m=\u001b[49m\u001b[38;5;28;43mself\u001b[39;49m\u001b[43m.\u001b[49m\u001b[43mprecise_float\u001b[49m\u001b[43m)\u001b[49m\u001b[43m,\u001b[49m\u001b[43m \u001b[49m\u001b[43mdtype\u001b[49m\u001b[43m=\u001b[49m\u001b[38;5;28;43;01mNone\u001b[39;49;00m\n\u001b[32m   1393\u001b[39m \u001b[43m    \u001b[49m\u001b[43m)\u001b[49m\n\u001b[32m   1394\u001b[39m \u001b[38;5;28;01melif\u001b[39;00m orient == \u001b[33m\"\u001b[39m\u001b[33msplit\u001b[39m\u001b[33m\"\u001b[39m:\n\u001b[32m   1395\u001b[39m     decoded = {\n\u001b[32m   1396\u001b[39m         \u001b[38;5;28mstr\u001b[39m(k): v\n\u001b[32m   1397\u001b[39m         \u001b[38;5;28;01mfor\u001b[39;00m k, v \u001b[38;5;129;01min\u001b[39;00m ujson_loads(json, precise_float=\u001b[38;5;28mself\u001b[39m.precise_float).items()\n\u001b[32m   1398\u001b[39m     }\n",
      "\u001b[36mFile \u001b[39m\u001b[32mc:\\Users\\opiej\\ufo-analysis-capstone\\ufo-analysis-capstone\\venv\\Lib\\site-packages\\pandas\\core\\frame.py:778\u001b[39m, in \u001b[36mDataFrame.__init__\u001b[39m\u001b[34m(self, data, index, columns, dtype, copy)\u001b[39m\n\u001b[32m    772\u001b[39m     mgr = \u001b[38;5;28mself\u001b[39m._init_mgr(\n\u001b[32m    773\u001b[39m         data, axes={\u001b[33m\"\u001b[39m\u001b[33mindex\u001b[39m\u001b[33m\"\u001b[39m: index, \u001b[33m\"\u001b[39m\u001b[33mcolumns\u001b[39m\u001b[33m\"\u001b[39m: columns}, dtype=dtype, copy=copy\n\u001b[32m    774\u001b[39m     )\n\u001b[32m    776\u001b[39m \u001b[38;5;28;01melif\u001b[39;00m \u001b[38;5;28misinstance\u001b[39m(data, \u001b[38;5;28mdict\u001b[39m):\n\u001b[32m    777\u001b[39m     \u001b[38;5;66;03m# GH#38939 de facto copy defaults to False only in non-dict cases\u001b[39;00m\n\u001b[32m--> \u001b[39m\u001b[32m778\u001b[39m     mgr = \u001b[43mdict_to_mgr\u001b[49m\u001b[43m(\u001b[49m\u001b[43mdata\u001b[49m\u001b[43m,\u001b[49m\u001b[43m \u001b[49m\u001b[43mindex\u001b[49m\u001b[43m,\u001b[49m\u001b[43m \u001b[49m\u001b[43mcolumns\u001b[49m\u001b[43m,\u001b[49m\u001b[43m \u001b[49m\u001b[43mdtype\u001b[49m\u001b[43m=\u001b[49m\u001b[43mdtype\u001b[49m\u001b[43m,\u001b[49m\u001b[43m \u001b[49m\u001b[43mcopy\u001b[49m\u001b[43m=\u001b[49m\u001b[43mcopy\u001b[49m\u001b[43m,\u001b[49m\u001b[43m \u001b[49m\u001b[43mtyp\u001b[49m\u001b[43m=\u001b[49m\u001b[43mmanager\u001b[49m\u001b[43m)\u001b[49m\n\u001b[32m    779\u001b[39m \u001b[38;5;28;01melif\u001b[39;00m \u001b[38;5;28misinstance\u001b[39m(data, ma.MaskedArray):\n\u001b[32m    780\u001b[39m     \u001b[38;5;28;01mfrom\u001b[39;00m\u001b[38;5;250m \u001b[39m\u001b[34;01mnumpy\u001b[39;00m\u001b[34;01m.\u001b[39;00m\u001b[34;01mma\u001b[39;00m\u001b[38;5;250m \u001b[39m\u001b[38;5;28;01mimport\u001b[39;00m mrecords\n",
      "\u001b[36mFile \u001b[39m\u001b[32mc:\\Users\\opiej\\ufo-analysis-capstone\\ufo-analysis-capstone\\venv\\Lib\\site-packages\\pandas\\core\\internals\\construction.py:503\u001b[39m, in \u001b[36mdict_to_mgr\u001b[39m\u001b[34m(data, index, columns, dtype, typ, copy)\u001b[39m\n\u001b[32m    499\u001b[39m     \u001b[38;5;28;01melse\u001b[39;00m:\n\u001b[32m    500\u001b[39m         \u001b[38;5;66;03m# dtype check to exclude e.g. range objects, scalars\u001b[39;00m\n\u001b[32m    501\u001b[39m         arrays = [x.copy() \u001b[38;5;28;01mif\u001b[39;00m \u001b[38;5;28mhasattr\u001b[39m(x, \u001b[33m\"\u001b[39m\u001b[33mdtype\u001b[39m\u001b[33m\"\u001b[39m) \u001b[38;5;28;01melse\u001b[39;00m x \u001b[38;5;28;01mfor\u001b[39;00m x \u001b[38;5;129;01min\u001b[39;00m arrays]\n\u001b[32m--> \u001b[39m\u001b[32m503\u001b[39m \u001b[38;5;28;01mreturn\u001b[39;00m \u001b[43marrays_to_mgr\u001b[49m\u001b[43m(\u001b[49m\u001b[43marrays\u001b[49m\u001b[43m,\u001b[49m\u001b[43m \u001b[49m\u001b[43mcolumns\u001b[49m\u001b[43m,\u001b[49m\u001b[43m \u001b[49m\u001b[43mindex\u001b[49m\u001b[43m,\u001b[49m\u001b[43m \u001b[49m\u001b[43mdtype\u001b[49m\u001b[43m=\u001b[49m\u001b[43mdtype\u001b[49m\u001b[43m,\u001b[49m\u001b[43m \u001b[49m\u001b[43mtyp\u001b[49m\u001b[43m=\u001b[49m\u001b[43mtyp\u001b[49m\u001b[43m,\u001b[49m\u001b[43m \u001b[49m\u001b[43mconsolidate\u001b[49m\u001b[43m=\u001b[49m\u001b[43mcopy\u001b[49m\u001b[43m)\u001b[49m\n",
      "\u001b[36mFile \u001b[39m\u001b[32mc:\\Users\\opiej\\ufo-analysis-capstone\\ufo-analysis-capstone\\venv\\Lib\\site-packages\\pandas\\core\\internals\\construction.py:114\u001b[39m, in \u001b[36marrays_to_mgr\u001b[39m\u001b[34m(arrays, columns, index, dtype, verify_integrity, typ, consolidate)\u001b[39m\n\u001b[32m    111\u001b[39m \u001b[38;5;28;01mif\u001b[39;00m verify_integrity:\n\u001b[32m    112\u001b[39m     \u001b[38;5;66;03m# figure out the index, if necessary\u001b[39;00m\n\u001b[32m    113\u001b[39m     \u001b[38;5;28;01mif\u001b[39;00m index \u001b[38;5;129;01mis\u001b[39;00m \u001b[38;5;28;01mNone\u001b[39;00m:\n\u001b[32m--> \u001b[39m\u001b[32m114\u001b[39m         index = \u001b[43m_extract_index\u001b[49m\u001b[43m(\u001b[49m\u001b[43marrays\u001b[49m\u001b[43m)\u001b[49m\n\u001b[32m    115\u001b[39m     \u001b[38;5;28;01melse\u001b[39;00m:\n\u001b[32m    116\u001b[39m         index = ensure_index(index)\n",
      "\u001b[36mFile \u001b[39m\u001b[32mc:\\Users\\opiej\\ufo-analysis-capstone\\ufo-analysis-capstone\\venv\\Lib\\site-packages\\pandas\\core\\internals\\construction.py:677\u001b[39m, in \u001b[36m_extract_index\u001b[39m\u001b[34m(data)\u001b[39m\n\u001b[32m    675\u001b[39m lengths = \u001b[38;5;28mlist\u001b[39m(\u001b[38;5;28mset\u001b[39m(raw_lengths))\n\u001b[32m    676\u001b[39m \u001b[38;5;28;01mif\u001b[39;00m \u001b[38;5;28mlen\u001b[39m(lengths) > \u001b[32m1\u001b[39m:\n\u001b[32m--> \u001b[39m\u001b[32m677\u001b[39m     \u001b[38;5;28;01mraise\u001b[39;00m \u001b[38;5;167;01mValueError\u001b[39;00m(\u001b[33m\"\u001b[39m\u001b[33mAll arrays must be of the same length\u001b[39m\u001b[33m\"\u001b[39m)\n\u001b[32m    679\u001b[39m \u001b[38;5;28;01mif\u001b[39;00m have_dicts:\n\u001b[32m    680\u001b[39m     \u001b[38;5;28;01mraise\u001b[39;00m \u001b[38;5;167;01mValueError\u001b[39;00m(\n\u001b[32m    681\u001b[39m         \u001b[33m\"\u001b[39m\u001b[33mMixing dicts with non-Series may lead to ambiguous ordering.\u001b[39m\u001b[33m\"\u001b[39m\n\u001b[32m    682\u001b[39m     )\n",
      "\u001b[31mValueError\u001b[39m: All arrays must be of the same length"
     ]
    }
   ],
   "source": [
    "import pandas as pd\n",
    "\n",
    "\n",
    "ufo_df = pd.read_json(r'C:\\Users\\opiej\\ufo-analysis-capstone\\ufo-analysis-capstone\\data\\ufo.json')\n",
    "\n",
    "\n",
    "ufo_df.head()\n",
    "ufo_df.columns\n"
   ]
  },
  {
   "cell_type": "code",
   "execution_count": 18,
   "id": "3bedeaa1",
   "metadata": {},
   "outputs": [
    {
     "data": {
      "text/plain": [
       "['dataset', 'config', 'split', 'features', 'rows', 'truncated']"
      ]
     },
     "execution_count": 18,
     "metadata": {},
     "output_type": "execute_result"
    }
   ],
   "source": [
    "import json\n",
    "\n",
    "with open(r'C:\\Users\\opiej\\ufo-analysis-capstone\\ufo-analysis-capstone\\data\\ufo.json', 'r', encoding='utf-8') as file:\n",
    "    data = json.load(file)\n",
    "\n",
    "# Peek at structure\n",
    "type(data)\n",
    "list(data.keys()) if isinstance(data, dict) else data[0]\n"
   ]
  },
  {
   "cell_type": "code",
   "execution_count": 19,
   "id": "029d8201",
   "metadata": {},
   "outputs": [
    {
     "data": {
      "application/vnd.microsoft.datawrangler.viewer.v0+json": {
       "columns": [
        {
         "name": "index",
         "rawType": "int64",
         "type": "integer"
        },
        {
         "name": "Sighting",
         "rawType": "int64",
         "type": "integer"
        },
        {
         "name": "Occurred",
         "rawType": "object",
         "type": "string"
        },
        {
         "name": "Location",
         "rawType": "object",
         "type": "string"
        },
        {
         "name": "Shape",
         "rawType": "object",
         "type": "string"
        },
        {
         "name": "Duration",
         "rawType": "object",
         "type": "unknown"
        },
        {
         "name": "No of observers",
         "rawType": "float64",
         "type": "float"
        },
        {
         "name": "Reported",
         "rawType": "object",
         "type": "string"
        },
        {
         "name": "Posted",
         "rawType": "object",
         "type": "string"
        },
        {
         "name": "Summary",
         "rawType": "object",
         "type": "unknown"
        },
        {
         "name": "Text",
         "rawType": "object",
         "type": "unknown"
        },
        {
         "name": "Lights on object",
         "rawType": "object",
         "type": "unknown"
        },
        {
         "name": "Aura or haze around object",
         "rawType": "object",
         "type": "unknown"
        },
        {
         "name": "Aircraft nearby",
         "rawType": "object",
         "type": "unknown"
        },
        {
         "name": "Animals reacted",
         "rawType": "object",
         "type": "unknown"
        },
        {
         "name": "Left a trail",
         "rawType": "object",
         "type": "unknown"
        },
        {
         "name": "Emitted other objects",
         "rawType": "object",
         "type": "unknown"
        },
        {
         "name": "Changed Colo",
         "rawType": "object",
         "type": "unknown"
        },
        {
         "name": "Emitted beams",
         "rawType": "object",
         "type": "unknown"
        },
        {
         "name": "Location details",
         "rawType": "object",
         "type": "unknown"
        },
        {
         "name": "Changed Color",
         "rawType": "object",
         "type": "unknown"
        },
        {
         "name": "Electrical or magnetic effects",
         "rawType": "object",
         "type": "unknown"
        },
        {
         "name": "Explanation",
         "rawType": "object",
         "type": "unknown"
        },
        {
         "name": "Possible abduction",
         "rawType": "object",
         "type": "unknown"
        },
        {
         "name": "Missing Time",
         "rawType": "object",
         "type": "unknown"
        },
        {
         "name": "Marks found on body afterwards",
         "rawType": "object",
         "type": "unknown"
        },
        {
         "name": "Landed",
         "rawType": "object",
         "type": "unknown"
        }
       ],
       "ref": "829dfd15-918b-4658-9b6f-4bf2c5657a2e",
       "rows": [
        [
         "0",
         "114864",
         "2014-09-21 13:00:00 Local",
         "Huntsville, TX, USA",
         "Rectangle",
         "several seconds",
         "1.0",
         "2014-10-23 11:11:17 Pacific",
         "2014-11-06 00:00:00",
         "Rectangle shaped UFO observed traveling at an extremely high rate of speed and sending out bright white propulsion as it traveled.",
         "I observed a rectangle shaped UFO moving at a very high rate of speed and sending out bright white propulsion as it traveled.  The UFO seemed to be larger than an aircraft as I noticed that as it flew under a cloud.  \nMy camera was aimed at 90 degrees upward..straight up in the sky when the UFO was recorded.  The UFO itself was dark in color.",
         "True",
         "True",
         null,
         null,
         null,
         null,
         null,
         null,
         null,
         null,
         null,
         null,
         null,
         null,
         null,
         null
        ],
        [
         "1",
         "126755",
         "2015-12-18 13:00:00 Local",
         "Sonoma, CA, USA",
         "Sphere",
         "2 minutes",
         "1.0",
         "2016-04-07 13:23:15 Pacific",
         "2016-04-15 00:00:00",
         "Round, metallic-looking sphere over my house",
         "It was a bright, clear day in December 2015, about 60 degrees and sunny, and I went out to get some firewood.\nI happened to look up and there was a round (spherical), bronze-colored craft sitting stationary over my house.\nIt had a metallic looking appearance and on the side that I was looking at it looked to me like there were part concave or convex areas to it.  I was looking at it facing north, looking up over my house.\nThere were no propellers, so it could not have been a drone, and no sound.  It was approximately 300 ft. above my house and if I were to estimate width, I would say maybe  20 to 30 feet wide.\nI was the only witness and I watched it for about 1 to 2 minutes.  Here is another additional part to my story.\nI have followed the UFO media reports for quite a few years and always thought  that  it would be great  to see one, to validate for myself that they exist.  I would get my camera, get a witness,  document everything, etc.\nAfter watching the craft, I continued on out to the wood pile and got the logs for my fireplace, and forgot about the entire thing… I remembered about 3 ½  weeks later, into January of this year , about  witnessing the craft.\nI am totally perplexed about that part of my story.\nI am a 62 year old woman with grandkids, have run a business for many years, and  have lived here for 28 years.  There would be no reason for me to fabricate this event.  As to who was piloting it -  ??",
         null,
         null,
         null,
         null,
         null,
         null,
         null,
         null,
         null,
         null,
         null,
         null,
         null,
         null,
         null,
         null
        ],
        [
         "2",
         "106946",
         "2014-02-05 21:00:00 Local",
         "Hershey, PA, USA",
         "Light",
         "10 seconds",
         "1.0",
         "2014-02-05 19:04:05 Pacific",
         "2014-02-07 00:00:00",
         "Bright flash of light. solid white object in the sky. disappeared after a couple seconds.  Seen while driving .",
         "I was driving on the highway and there was a huge flash of light.  The light lit up the entire town, possibly more.  \nAs I looked around for a split second I noticed a very bright ball of light in the sky ahead of.  \nThis light was almost tear dropped.  It was moving downwards at a high rate.  \nAfter a couple seconds it disappeared.  \nMy dad inside the house with closed blinds saw this flash of light.  \nThe house is about 2-3 minutes from my location at the time, in a neighborhood with houses all around.\nWitness confirms a nighttime sighting.  We have amended the time above.  PD",
         null,
         null,
         null,
         null,
         null,
         null,
         null,
         null,
         null,
         null,
         null,
         null,
         null,
         null,
         null,
         null
        ],
        [
         "3",
         "161419",
         "2019-05-16 12:00:00 Local",
         "Brownsville, TX, USA",
         "Oval",
         null,
         "1.0",
         "2021-01-02 20:45:43 Pacific",
         "2021-01-19 00:00:00",
         null,
         null,
         null,
         null,
         "True",
         "True",
         null,
         null,
         null,
         null,
         null,
         null,
         null,
         null,
         null,
         null,
         null,
         null
        ],
        [
         "4",
         "18735",
         "2001-07-29 23:59:00 Local",
         "Tucson, AZ, USA",
         "Unknown",
         "?",
         "2.0",
         "2001-07-30 00:00:00 Pacific",
         "2001-08-05 00:00:00",
         "1 of 3 i saw came close, released a small slow light, then i think they just disappeared",
         "my girlfriend and i were on a drive and wound up on the side of the road near mt. baldey, madera canyon area and i pointed at 3 lights in the sky. curious because there were no blinkiing lights. one came very quickly towards us stoppped at a closer distance released something lit which went very slow in a circle motion then toward our direction, and then all disappeared which was weird cause we didnt see any of them just vanish somehow we didnt talk about it after either which was weird also now that i remember.\nError in time.  We presume witness means 2359 (??).  PD",
         null,
         null,
         null,
         null,
         "True",
         "True",
         null,
         null,
         null,
         null,
         null,
         null,
         null,
         null,
         null,
         null
        ]
       ],
       "shape": {
        "columns": 26,
        "rows": 5
       }
      },
      "text/html": [
       "<div>\n",
       "<style scoped>\n",
       "    .dataframe tbody tr th:only-of-type {\n",
       "        vertical-align: middle;\n",
       "    }\n",
       "\n",
       "    .dataframe tbody tr th {\n",
       "        vertical-align: top;\n",
       "    }\n",
       "\n",
       "    .dataframe thead th {\n",
       "        text-align: right;\n",
       "    }\n",
       "</style>\n",
       "<table border=\"1\" class=\"dataframe\">\n",
       "  <thead>\n",
       "    <tr style=\"text-align: right;\">\n",
       "      <th></th>\n",
       "      <th>Sighting</th>\n",
       "      <th>Occurred</th>\n",
       "      <th>Location</th>\n",
       "      <th>Shape</th>\n",
       "      <th>Duration</th>\n",
       "      <th>No of observers</th>\n",
       "      <th>Reported</th>\n",
       "      <th>Posted</th>\n",
       "      <th>Summary</th>\n",
       "      <th>Text</th>\n",
       "      <th>...</th>\n",
       "      <th>Changed Colo</th>\n",
       "      <th>Emitted beams</th>\n",
       "      <th>Location details</th>\n",
       "      <th>Changed Color</th>\n",
       "      <th>Electrical or magnetic effects</th>\n",
       "      <th>Explanation</th>\n",
       "      <th>Possible abduction</th>\n",
       "      <th>Missing Time</th>\n",
       "      <th>Marks found on body afterwards</th>\n",
       "      <th>Landed</th>\n",
       "    </tr>\n",
       "  </thead>\n",
       "  <tbody>\n",
       "    <tr>\n",
       "      <th>0</th>\n",
       "      <td>114864</td>\n",
       "      <td>2014-09-21 13:00:00 Local</td>\n",
       "      <td>Huntsville, TX, USA</td>\n",
       "      <td>Rectangle</td>\n",
       "      <td>several seconds</td>\n",
       "      <td>1.0</td>\n",
       "      <td>2014-10-23 11:11:17 Pacific</td>\n",
       "      <td>2014-11-06 00:00:00</td>\n",
       "      <td>Rectangle shaped UFO observed traveling at an ...</td>\n",
       "      <td>I observed a rectangle shaped UFO moving at a ...</td>\n",
       "      <td>...</td>\n",
       "      <td>None</td>\n",
       "      <td>None</td>\n",
       "      <td>None</td>\n",
       "      <td>None</td>\n",
       "      <td>None</td>\n",
       "      <td>None</td>\n",
       "      <td>None</td>\n",
       "      <td>None</td>\n",
       "      <td>None</td>\n",
       "      <td>None</td>\n",
       "    </tr>\n",
       "    <tr>\n",
       "      <th>1</th>\n",
       "      <td>126755</td>\n",
       "      <td>2015-12-18 13:00:00 Local</td>\n",
       "      <td>Sonoma, CA, USA</td>\n",
       "      <td>Sphere</td>\n",
       "      <td>2 minutes</td>\n",
       "      <td>1.0</td>\n",
       "      <td>2016-04-07 13:23:15 Pacific</td>\n",
       "      <td>2016-04-15 00:00:00</td>\n",
       "      <td>Round, metallic-looking sphere over my house</td>\n",
       "      <td>It was a bright, clear day in December 2015, a...</td>\n",
       "      <td>...</td>\n",
       "      <td>None</td>\n",
       "      <td>None</td>\n",
       "      <td>None</td>\n",
       "      <td>None</td>\n",
       "      <td>None</td>\n",
       "      <td>None</td>\n",
       "      <td>None</td>\n",
       "      <td>None</td>\n",
       "      <td>None</td>\n",
       "      <td>None</td>\n",
       "    </tr>\n",
       "    <tr>\n",
       "      <th>2</th>\n",
       "      <td>106946</td>\n",
       "      <td>2014-02-05 21:00:00 Local</td>\n",
       "      <td>Hershey, PA, USA</td>\n",
       "      <td>Light</td>\n",
       "      <td>10 seconds</td>\n",
       "      <td>1.0</td>\n",
       "      <td>2014-02-05 19:04:05 Pacific</td>\n",
       "      <td>2014-02-07 00:00:00</td>\n",
       "      <td>Bright flash of light. solid white object in t...</td>\n",
       "      <td>I was driving on the highway and there was a h...</td>\n",
       "      <td>...</td>\n",
       "      <td>None</td>\n",
       "      <td>None</td>\n",
       "      <td>None</td>\n",
       "      <td>None</td>\n",
       "      <td>None</td>\n",
       "      <td>None</td>\n",
       "      <td>None</td>\n",
       "      <td>None</td>\n",
       "      <td>None</td>\n",
       "      <td>None</td>\n",
       "    </tr>\n",
       "    <tr>\n",
       "      <th>3</th>\n",
       "      <td>161419</td>\n",
       "      <td>2019-05-16 12:00:00 Local</td>\n",
       "      <td>Brownsville, TX, USA</td>\n",
       "      <td>Oval</td>\n",
       "      <td>None</td>\n",
       "      <td>1.0</td>\n",
       "      <td>2021-01-02 20:45:43 Pacific</td>\n",
       "      <td>2021-01-19 00:00:00</td>\n",
       "      <td>None</td>\n",
       "      <td>None</td>\n",
       "      <td>...</td>\n",
       "      <td>None</td>\n",
       "      <td>None</td>\n",
       "      <td>None</td>\n",
       "      <td>None</td>\n",
       "      <td>None</td>\n",
       "      <td>None</td>\n",
       "      <td>None</td>\n",
       "      <td>None</td>\n",
       "      <td>None</td>\n",
       "      <td>None</td>\n",
       "    </tr>\n",
       "    <tr>\n",
       "      <th>4</th>\n",
       "      <td>18735</td>\n",
       "      <td>2001-07-29 23:59:00 Local</td>\n",
       "      <td>Tucson, AZ, USA</td>\n",
       "      <td>Unknown</td>\n",
       "      <td>?</td>\n",
       "      <td>2.0</td>\n",
       "      <td>2001-07-30 00:00:00 Pacific</td>\n",
       "      <td>2001-08-05 00:00:00</td>\n",
       "      <td>1 of 3 i saw came close, released a small slow...</td>\n",
       "      <td>my girlfriend and i were on a drive and wound ...</td>\n",
       "      <td>...</td>\n",
       "      <td>None</td>\n",
       "      <td>None</td>\n",
       "      <td>None</td>\n",
       "      <td>None</td>\n",
       "      <td>None</td>\n",
       "      <td>None</td>\n",
       "      <td>None</td>\n",
       "      <td>None</td>\n",
       "      <td>None</td>\n",
       "      <td>None</td>\n",
       "    </tr>\n",
       "  </tbody>\n",
       "</table>\n",
       "<p>5 rows × 26 columns</p>\n",
       "</div>"
      ],
      "text/plain": [
       "   Sighting                   Occurred              Location      Shape  \\\n",
       "0    114864  2014-09-21 13:00:00 Local   Huntsville, TX, USA  Rectangle   \n",
       "1    126755  2015-12-18 13:00:00 Local       Sonoma, CA, USA     Sphere   \n",
       "2    106946  2014-02-05 21:00:00 Local      Hershey, PA, USA      Light   \n",
       "3    161419  2019-05-16 12:00:00 Local  Brownsville, TX, USA       Oval   \n",
       "4     18735  2001-07-29 23:59:00 Local       Tucson, AZ, USA    Unknown   \n",
       "\n",
       "          Duration  No of observers                     Reported  \\\n",
       "0  several seconds              1.0  2014-10-23 11:11:17 Pacific   \n",
       "1        2 minutes              1.0  2016-04-07 13:23:15 Pacific   \n",
       "2       10 seconds              1.0  2014-02-05 19:04:05 Pacific   \n",
       "3             None              1.0  2021-01-02 20:45:43 Pacific   \n",
       "4                ?              2.0  2001-07-30 00:00:00 Pacific   \n",
       "\n",
       "                Posted                                            Summary  \\\n",
       "0  2014-11-06 00:00:00  Rectangle shaped UFO observed traveling at an ...   \n",
       "1  2016-04-15 00:00:00       Round, metallic-looking sphere over my house   \n",
       "2  2014-02-07 00:00:00  Bright flash of light. solid white object in t...   \n",
       "3  2021-01-19 00:00:00                                               None   \n",
       "4  2001-08-05 00:00:00  1 of 3 i saw came close, released a small slow...   \n",
       "\n",
       "                                                Text  ... Changed Colo  \\\n",
       "0  I observed a rectangle shaped UFO moving at a ...  ...         None   \n",
       "1  It was a bright, clear day in December 2015, a...  ...         None   \n",
       "2  I was driving on the highway and there was a h...  ...         None   \n",
       "3                                               None  ...         None   \n",
       "4  my girlfriend and i were on a drive and wound ...  ...         None   \n",
       "\n",
       "  Emitted beams Location details Changed Color Electrical or magnetic effects  \\\n",
       "0          None             None          None                           None   \n",
       "1          None             None          None                           None   \n",
       "2          None             None          None                           None   \n",
       "3          None             None          None                           None   \n",
       "4          None             None          None                           None   \n",
       "\n",
       "  Explanation Possible abduction Missing Time Marks found on body afterwards  \\\n",
       "0        None               None         None                           None   \n",
       "1        None               None         None                           None   \n",
       "2        None               None         None                           None   \n",
       "3        None               None         None                           None   \n",
       "4        None               None         None                           None   \n",
       "\n",
       "  Landed  \n",
       "0   None  \n",
       "1   None  \n",
       "2   None  \n",
       "3   None  \n",
       "4   None  \n",
       "\n",
       "[5 rows x 26 columns]"
      ]
     },
     "execution_count": 19,
     "metadata": {},
     "output_type": "execute_result"
    }
   ],
   "source": [
    "import pandas as pd\n",
    "\n",
    "\n",
    "records = data['rows']\n",
    "\n",
    "\n",
    "df = pd.DataFrame([row['row'] for row in records])\n",
    "\n",
    "\n",
    "df.head()\n"
   ]
  },
  {
   "cell_type": "code",
   "execution_count": 27,
   "id": "2539f690",
   "metadata": {},
   "outputs": [
    {
     "data": {
      "application/vnd.microsoft.datawrangler.viewer.v0+json": {
       "columns": [
        {
         "name": "index",
         "rawType": "int64",
         "type": "integer"
        },
        {
         "name": "Occurred",
         "rawType": "datetime64[ns]",
         "type": "datetime"
        }
       ],
       "ref": "386add37-2a56-42fd-9bfe-0c58d8885eee",
       "rows": [],
       "shape": {
        "columns": 1,
        "rows": 0
       }
      },
      "text/plain": [
       "Series([], Name: Occurred, dtype: datetime64[ns])"
      ]
     },
     "execution_count": 27,
     "metadata": {},
     "output_type": "execute_result"
    }
   ],
   "source": [
    "\n",
    "df['Occurred'].head(10)\n"
   ]
  },
  {
   "cell_type": "code",
   "execution_count": 28,
   "id": "d94ba2a3",
   "metadata": {},
   "outputs": [
    {
     "name": "stdout",
     "output_type": "stream",
     "text": [
      "Original rows: 0\n",
      "Still NaN after cleanup: 0\n",
      "Example cleaned values:\n",
      "Series([], Name: Occurred, dtype: object)\n"
     ]
    }
   ],
   "source": [
    "# Check how many rows were lost\n",
    "print(\"Original rows:\", len(df))\n",
    "df['Occurred'] = df['Occurred'].astype(str).str.replace('Local', '').str.strip()\n",
    "print(\"Still NaN after cleanup:\", df['Occurred'].isna().sum())\n",
    "print(\"Example cleaned values:\")\n",
    "print(df['Occurred'].head(10))\n"
   ]
  },
  {
   "cell_type": "code",
   "execution_count": 20,
   "id": "a62af281",
   "metadata": {},
   "outputs": [
    {
     "data": {
      "text/plain": [
       "['Sighting',\n",
       " 'Occurred',\n",
       " 'Location',\n",
       " 'Shape',\n",
       " 'Duration',\n",
       " 'No of observers',\n",
       " 'Reported',\n",
       " 'Posted',\n",
       " 'Summary',\n",
       " 'Text',\n",
       " 'Lights on object',\n",
       " 'Aura or haze around object',\n",
       " 'Aircraft nearby',\n",
       " 'Animals reacted',\n",
       " 'Left a trail',\n",
       " 'Emitted other objects',\n",
       " 'Changed Colo',\n",
       " 'Emitted beams',\n",
       " 'Location details',\n",
       " 'Changed Color',\n",
       " 'Electrical or magnetic effects',\n",
       " 'Explanation',\n",
       " 'Possible abduction',\n",
       " 'Missing Time',\n",
       " 'Marks found on body afterwards',\n",
       " 'Landed']"
      ]
     },
     "execution_count": 20,
     "metadata": {},
     "output_type": "execute_result"
    }
   ],
   "source": [
    "df.columns.tolist()\n"
   ]
  },
  {
   "cell_type": "code",
   "execution_count": 24,
   "id": "9f82dbb9",
   "metadata": {},
   "outputs": [
    {
     "data": {
      "application/vnd.microsoft.datawrangler.viewer.v0+json": {
       "columns": [
        {
         "name": "index",
         "rawType": "int64",
         "type": "integer"
        },
        {
         "name": "Occurred",
         "rawType": "datetime64[ns]",
         "type": "datetime"
        },
        {
         "name": "City",
         "rawType": "object",
         "type": "string"
        },
        {
         "name": "State",
         "rawType": "object",
         "type": "string"
        },
        {
         "name": "date_only",
         "rawType": "object",
         "type": "string"
        },
        {
         "name": "year",
         "rawType": "int32",
         "type": "integer"
        },
        {
         "name": "month",
         "rawType": "int32",
         "type": "integer"
        },
        {
         "name": "hour",
         "rawType": "int32",
         "type": "integer"
        }
       ],
       "ref": "9f39bf53-2a40-4a90-9ef8-68eb4146bc2d",
       "rows": [],
       "shape": {
        "columns": 7,
        "rows": 0
       }
      },
      "text/html": [
       "<div>\n",
       "<style scoped>\n",
       "    .dataframe tbody tr th:only-of-type {\n",
       "        vertical-align: middle;\n",
       "    }\n",
       "\n",
       "    .dataframe tbody tr th {\n",
       "        vertical-align: top;\n",
       "    }\n",
       "\n",
       "    .dataframe thead th {\n",
       "        text-align: right;\n",
       "    }\n",
       "</style>\n",
       "<table border=\"1\" class=\"dataframe\">\n",
       "  <thead>\n",
       "    <tr style=\"text-align: right;\">\n",
       "      <th></th>\n",
       "      <th>Occurred</th>\n",
       "      <th>City</th>\n",
       "      <th>State</th>\n",
       "      <th>date_only</th>\n",
       "      <th>year</th>\n",
       "      <th>month</th>\n",
       "      <th>hour</th>\n",
       "    </tr>\n",
       "  </thead>\n",
       "  <tbody>\n",
       "  </tbody>\n",
       "</table>\n",
       "</div>"
      ],
      "text/plain": [
       "Empty DataFrame\n",
       "Columns: [Occurred, City, State, date_only, year, month, hour]\n",
       "Index: []"
      ]
     },
     "execution_count": 24,
     "metadata": {},
     "output_type": "execute_result"
    }
   ],
   "source": [
    "\n",
    "df['Occurred'] = pd.to_datetime(df['Occurred'].astype(str).str.replace('Local', '').str.strip(), errors='coerce')\n",
    "\n",
    "df = df.dropna(subset=['Occurred'])\n",
    "\n",
    "df[['City', 'State']] = df['Location'].str.extract(r'^(.*?),\\s*([A-Z]{2})')\n",
    "\n",
    "\n",
    "df['date_only'] = df['Occurred'].dt.date\n",
    "df['year'] = df['Occurred'].dt.year\n",
    "df['month'] = df['Occurred'].dt.month\n",
    "df['hour'] = df['Occurred'].dt.hour\n",
    "\n",
    "df[['Occurred', 'City', 'State', 'date_only', 'year', 'month', 'hour']].head()\n"
   ]
  },
  {
   "cell_type": "code",
   "execution_count": 29,
   "id": "82774a62",
   "metadata": {},
   "outputs": [
    {
     "name": "stdout",
     "output_type": "stream",
     "text": [
      "<class 'list'>\n",
      "{'row_idx': 0, 'row': {'Sighting': 114864, 'Occurred': '2014-09-21 13:00:00 Local', 'Location': 'Huntsville, TX, USA', 'Shape': 'Rectangle', 'Duration': 'several seconds', 'No of observers': 1.0, 'Reported': '2014-10-23 11:11:17 Pacific', 'Posted': '2014-11-06 00:00:00', 'Summary': 'Rectangle shaped UFO observed traveling at an extremely high rate of speed and sending out bright white propulsion as it traveled.', 'Text': 'I observed a rectangle shaped UFO moving at a very high rate of speed and sending out bright white propulsion as it traveled.  The UFO seemed to be larger than an aircraft as I noticed that as it flew under a cloud.  \\nMy camera was aimed at 90 degrees upward..straight up in the sky when the UFO was recorded.  The UFO itself was dark in color.', 'Lights on object': True, 'Aura or haze around object': True, 'Aircraft nearby': None, 'Animals reacted': None, 'Left a trail': None, 'Emitted other objects': None, 'Changed Colo': None, 'Emitted beams': None, 'Location details': None, 'Changed Color': None, 'Electrical or magnetic effects': None, 'Explanation': None, 'Possible abduction': None, 'Missing Time': None, 'Marks found on body afterwards': None, 'Landed': None}, 'truncated_cells': []}\n"
     ]
    },
    {
     "data": {
      "application/vnd.microsoft.datawrangler.viewer.v0+json": {
       "columns": [
        {
         "name": "index",
         "rawType": "int64",
         "type": "integer"
        },
        {
         "name": "row_idx",
         "rawType": "int64",
         "type": "integer"
        },
        {
         "name": "row",
         "rawType": "object",
         "type": "unknown"
        },
        {
         "name": "truncated_cells",
         "rawType": "object",
         "type": "unknown"
        }
       ],
       "ref": "a167b0ba-404a-45de-af96-2047ebaba668",
       "rows": [
        [
         "0",
         "0",
         "{'Sighting': 114864, 'Occurred': '2014-09-21 13:00:00 Local', 'Location': 'Huntsville, TX, USA', 'Shape': 'Rectangle', 'Duration': 'several seconds', 'No of observers': 1.0, 'Reported': '2014-10-23 11:11:17 Pacific', 'Posted': '2014-11-06 00:00:00', 'Summary': 'Rectangle shaped UFO observed traveling at an extremely high rate of speed and sending out bright white propulsion as it traveled.', 'Text': 'I observed a rectangle shaped UFO moving at a very high rate of speed and sending out bright white propulsion as it traveled.  The UFO seemed to be larger than an aircraft as I noticed that as it flew under a cloud.  \\nMy camera was aimed at 90 degrees upward..straight up in the sky when the UFO was recorded.  The UFO itself was dark in color.', 'Lights on object': True, 'Aura or haze around object': True, 'Aircraft nearby': None, 'Animals reacted': None, 'Left a trail': None, 'Emitted other objects': None, 'Changed Colo': None, 'Emitted beams': None, 'Location details': None, 'Changed Color': None, 'Electrical or magnetic effects': None, 'Explanation': None, 'Possible abduction': None, 'Missing Time': None, 'Marks found on body afterwards': None, 'Landed': None}",
         "[]"
        ],
        [
         "1",
         "1",
         "{'Sighting': 126755, 'Occurred': '2015-12-18 13:00:00 Local', 'Location': 'Sonoma, CA, USA', 'Shape': 'Sphere', 'Duration': '2 minutes', 'No of observers': 1.0, 'Reported': '2016-04-07 13:23:15 Pacific', 'Posted': '2016-04-15 00:00:00', 'Summary': 'Round, metallic-looking sphere over my house', 'Text': 'It was a bright, clear day in December 2015, about 60 degrees and sunny, and I went out to get some firewood.\\nI happened to look up and there was a round (spherical), bronze-colored craft sitting stationary over my house.\\nIt had a metallic looking appearance and on the side that I was looking at it looked to me like there were part concave or convex areas to it.  I was looking at it facing north, looking up over my house.\\nThere were no propellers, so it could not have been a drone, and no sound.  It was approximately 300 ft. above my house and if I were to estimate width, I would say maybe  20 to 30 feet wide.\\nI was the only witness and I watched it for about 1 to 2 minutes.  Here is another additional part to my story.\\nI have followed the UFO media reports for quite a few years and always thought  that  it would be great  to see one, to validate for myself that they exist.  I would get my camera, get a witness,  document everything, etc.\\nAfter watching the craft, I continued on out to the wood pile and got the logs for my fireplace, and forgot about the entire thing… I remembered about 3 ½  weeks later, into January of this year , about  witnessing the craft.\\nI am totally perplexed about that part of my story.\\nI am a 62 year old woman with grandkids, have run a business for many years, and  have lived here for 28 years.  There would be no reason for me to fabricate this event.  As to who was piloting it -  ??', 'Lights on object': None, 'Aura or haze around object': None, 'Aircraft nearby': None, 'Animals reacted': None, 'Left a trail': None, 'Emitted other objects': None, 'Changed Colo': None, 'Emitted beams': None, 'Location details': None, 'Changed Color': None, 'Electrical or magnetic effects': None, 'Explanation': None, 'Possible abduction': None, 'Missing Time': None, 'Marks found on body afterwards': None, 'Landed': None}",
         "[]"
        ],
        [
         "2",
         "2",
         "{'Sighting': 106946, 'Occurred': '2014-02-05 21:00:00 Local', 'Location': 'Hershey, PA, USA', 'Shape': 'Light', 'Duration': '10 seconds', 'No of observers': 1.0, 'Reported': '2014-02-05 19:04:05 Pacific', 'Posted': '2014-02-07 00:00:00', 'Summary': 'Bright flash of light. solid white object in the sky. disappeared after a couple seconds.  Seen while driving .', 'Text': 'I was driving on the highway and there was a huge flash of light.  The light lit up the entire town, possibly more.  \\nAs I looked around for a split second I noticed a very bright ball of light in the sky ahead of.  \\nThis light was almost tear dropped.  It was moving downwards at a high rate.  \\nAfter a couple seconds it disappeared.  \\nMy dad inside the house with closed blinds saw this flash of light.  \\nThe house is about 2-3 minutes from my location at the time, in a neighborhood with houses all around.\\nWitness confirms a nighttime sighting.  We have amended the time above.  PD', 'Lights on object': None, 'Aura or haze around object': None, 'Aircraft nearby': None, 'Animals reacted': None, 'Left a trail': None, 'Emitted other objects': None, 'Changed Colo': None, 'Emitted beams': None, 'Location details': None, 'Changed Color': None, 'Electrical or magnetic effects': None, 'Explanation': None, 'Possible abduction': None, 'Missing Time': None, 'Marks found on body afterwards': None, 'Landed': None}",
         "[]"
        ],
        [
         "3",
         "3",
         "{'Sighting': 161419, 'Occurred': '2019-05-16 12:00:00 Local', 'Location': 'Brownsville, TX, USA', 'Shape': 'Oval', 'Duration': None, 'No of observers': 1.0, 'Reported': '2021-01-02 20:45:43 Pacific', 'Posted': '2021-01-19 00:00:00', 'Summary': None, 'Text': None, 'Lights on object': None, 'Aura or haze around object': None, 'Aircraft nearby': True, 'Animals reacted': True, 'Left a trail': None, 'Emitted other objects': None, 'Changed Colo': None, 'Emitted beams': None, 'Location details': None, 'Changed Color': None, 'Electrical or magnetic effects': None, 'Explanation': None, 'Possible abduction': None, 'Missing Time': None, 'Marks found on body afterwards': None, 'Landed': None}",
         "[]"
        ],
        [
         "4",
         "4",
         "{'Sighting': 18735, 'Occurred': '2001-07-29 23:59:00 Local', 'Location': 'Tucson, AZ, USA', 'Shape': 'Unknown', 'Duration': '?', 'No of observers': 2.0, 'Reported': '2001-07-30 00:00:00 Pacific', 'Posted': '2001-08-05 00:00:00', 'Summary': '1 of 3 i saw came close, released a small slow light, then i think they just disappeared', 'Text': 'my girlfriend and i were on a drive and wound up on the side of the road near mt. baldey, madera canyon area and i pointed at 3 lights in the sky. curious because there were no blinkiing lights. one came very quickly towards us stoppped at a closer distance released something lit which went very slow in a circle motion then toward our direction, and then all disappeared which was weird cause we didnt see any of them just vanish somehow we didnt talk about it after either which was weird also now that i remember.\\nError in time.  We presume witness means 2359 (??).  PD', 'Lights on object': None, 'Aura or haze around object': None, 'Aircraft nearby': None, 'Animals reacted': None, 'Left a trail': True, 'Emitted other objects': True, 'Changed Colo': None, 'Emitted beams': None, 'Location details': None, 'Changed Color': None, 'Electrical or magnetic effects': None, 'Explanation': None, 'Possible abduction': None, 'Missing Time': None, 'Marks found on body afterwards': None, 'Landed': None}",
         "[]"
        ]
       ],
       "shape": {
        "columns": 3,
        "rows": 5
       }
      },
      "text/html": [
       "<div>\n",
       "<style scoped>\n",
       "    .dataframe tbody tr th:only-of-type {\n",
       "        vertical-align: middle;\n",
       "    }\n",
       "\n",
       "    .dataframe tbody tr th {\n",
       "        vertical-align: top;\n",
       "    }\n",
       "\n",
       "    .dataframe thead th {\n",
       "        text-align: right;\n",
       "    }\n",
       "</style>\n",
       "<table border=\"1\" class=\"dataframe\">\n",
       "  <thead>\n",
       "    <tr style=\"text-align: right;\">\n",
       "      <th></th>\n",
       "      <th>row_idx</th>\n",
       "      <th>row</th>\n",
       "      <th>truncated_cells</th>\n",
       "    </tr>\n",
       "  </thead>\n",
       "  <tbody>\n",
       "    <tr>\n",
       "      <th>0</th>\n",
       "      <td>0</td>\n",
       "      <td>{'Sighting': 114864, 'Occurred': '2014-09-21 1...</td>\n",
       "      <td>[]</td>\n",
       "    </tr>\n",
       "    <tr>\n",
       "      <th>1</th>\n",
       "      <td>1</td>\n",
       "      <td>{'Sighting': 126755, 'Occurred': '2015-12-18 1...</td>\n",
       "      <td>[]</td>\n",
       "    </tr>\n",
       "    <tr>\n",
       "      <th>2</th>\n",
       "      <td>2</td>\n",
       "      <td>{'Sighting': 106946, 'Occurred': '2014-02-05 2...</td>\n",
       "      <td>[]</td>\n",
       "    </tr>\n",
       "    <tr>\n",
       "      <th>3</th>\n",
       "      <td>3</td>\n",
       "      <td>{'Sighting': 161419, 'Occurred': '2019-05-16 1...</td>\n",
       "      <td>[]</td>\n",
       "    </tr>\n",
       "    <tr>\n",
       "      <th>4</th>\n",
       "      <td>4</td>\n",
       "      <td>{'Sighting': 18735, 'Occurred': '2001-07-29 23...</td>\n",
       "      <td>[]</td>\n",
       "    </tr>\n",
       "  </tbody>\n",
       "</table>\n",
       "</div>"
      ],
      "text/plain": [
       "   row_idx                                                row truncated_cells\n",
       "0        0  {'Sighting': 114864, 'Occurred': '2014-09-21 1...              []\n",
       "1        1  {'Sighting': 126755, 'Occurred': '2015-12-18 1...              []\n",
       "2        2  {'Sighting': 106946, 'Occurred': '2014-02-05 2...              []\n",
       "3        3  {'Sighting': 161419, 'Occurred': '2019-05-16 1...              []\n",
       "4        4  {'Sighting': 18735, 'Occurred': '2001-07-29 23...              []"
      ]
     },
     "execution_count": 29,
     "metadata": {},
     "output_type": "execute_result"
    }
   ],
   "source": [
    "import pandas as pd\n",
    "import json\n",
    "\n",
    "# Load JSON\n",
    "with open(r'C:\\Users\\opiej\\ufo-analysis-capstone\\ufo-analysis-capstone\\data\\ufo.json', encoding='utf-8') as file:\n",
    "    data = json.load(file)\n",
    "\n",
    "# Check what 'rows' contains (sample)\n",
    "print(type(data['rows']))\n",
    "print(data['rows'][0])  # One sample row\n",
    "\n",
    "# Convert to DataFrame\n",
    "df = pd.DataFrame(data['rows'])\n",
    "\n",
    "# Peek\n",
    "df.head()\n"
   ]
  },
  {
   "cell_type": "code",
   "execution_count": 30,
   "id": "9fc70cc8",
   "metadata": {},
   "outputs": [
    {
     "ename": "KeyError",
     "evalue": "'Occurred'",
     "output_type": "error",
     "traceback": [
      "\u001b[31m---------------------------------------------------------------------------\u001b[39m",
      "\u001b[31mKeyError\u001b[39m                                  Traceback (most recent call last)",
      "\u001b[36mFile \u001b[39m\u001b[32mc:\\Users\\opiej\\ufo-analysis-capstone\\ufo-analysis-capstone\\venv\\Lib\\site-packages\\pandas\\core\\indexes\\base.py:3812\u001b[39m, in \u001b[36mIndex.get_loc\u001b[39m\u001b[34m(self, key)\u001b[39m\n\u001b[32m   3811\u001b[39m \u001b[38;5;28;01mtry\u001b[39;00m:\n\u001b[32m-> \u001b[39m\u001b[32m3812\u001b[39m     \u001b[38;5;28;01mreturn\u001b[39;00m \u001b[38;5;28;43mself\u001b[39;49m\u001b[43m.\u001b[49m\u001b[43m_engine\u001b[49m\u001b[43m.\u001b[49m\u001b[43mget_loc\u001b[49m\u001b[43m(\u001b[49m\u001b[43mcasted_key\u001b[49m\u001b[43m)\u001b[49m\n\u001b[32m   3813\u001b[39m \u001b[38;5;28;01mexcept\u001b[39;00m \u001b[38;5;167;01mKeyError\u001b[39;00m \u001b[38;5;28;01mas\u001b[39;00m err:\n",
      "\u001b[36mFile \u001b[39m\u001b[32mpandas/_libs/index.pyx:167\u001b[39m, in \u001b[36mpandas._libs.index.IndexEngine.get_loc\u001b[39m\u001b[34m()\u001b[39m\n",
      "\u001b[36mFile \u001b[39m\u001b[32mpandas/_libs/index.pyx:196\u001b[39m, in \u001b[36mpandas._libs.index.IndexEngine.get_loc\u001b[39m\u001b[34m()\u001b[39m\n",
      "\u001b[36mFile \u001b[39m\u001b[32mpandas/_libs/hashtable_class_helper.pxi:7088\u001b[39m, in \u001b[36mpandas._libs.hashtable.PyObjectHashTable.get_item\u001b[39m\u001b[34m()\u001b[39m\n",
      "\u001b[36mFile \u001b[39m\u001b[32mpandas/_libs/hashtable_class_helper.pxi:7096\u001b[39m, in \u001b[36mpandas._libs.hashtable.PyObjectHashTable.get_item\u001b[39m\u001b[34m()\u001b[39m\n",
      "\u001b[31mKeyError\u001b[39m: 'Occurred'",
      "\nThe above exception was the direct cause of the following exception:\n",
      "\u001b[31mKeyError\u001b[39m                                  Traceback (most recent call last)",
      "\u001b[36mCell\u001b[39m\u001b[36m \u001b[39m\u001b[32mIn[30]\u001b[39m\u001b[32m, line 1\u001b[39m\n\u001b[32m----> \u001b[39m\u001b[32m1\u001b[39m \u001b[43mdf\u001b[49m\u001b[43m[\u001b[49m\u001b[33;43m'\u001b[39;49m\u001b[33;43mOccurred\u001b[39;49m\u001b[33;43m'\u001b[39;49m\u001b[43m]\u001b[49m.head()\n",
      "\u001b[36mFile \u001b[39m\u001b[32mc:\\Users\\opiej\\ufo-analysis-capstone\\ufo-analysis-capstone\\venv\\Lib\\site-packages\\pandas\\core\\frame.py:4107\u001b[39m, in \u001b[36mDataFrame.__getitem__\u001b[39m\u001b[34m(self, key)\u001b[39m\n\u001b[32m   4105\u001b[39m \u001b[38;5;28;01mif\u001b[39;00m \u001b[38;5;28mself\u001b[39m.columns.nlevels > \u001b[32m1\u001b[39m:\n\u001b[32m   4106\u001b[39m     \u001b[38;5;28;01mreturn\u001b[39;00m \u001b[38;5;28mself\u001b[39m._getitem_multilevel(key)\n\u001b[32m-> \u001b[39m\u001b[32m4107\u001b[39m indexer = \u001b[38;5;28;43mself\u001b[39;49m\u001b[43m.\u001b[49m\u001b[43mcolumns\u001b[49m\u001b[43m.\u001b[49m\u001b[43mget_loc\u001b[49m\u001b[43m(\u001b[49m\u001b[43mkey\u001b[49m\u001b[43m)\u001b[49m\n\u001b[32m   4108\u001b[39m \u001b[38;5;28;01mif\u001b[39;00m is_integer(indexer):\n\u001b[32m   4109\u001b[39m     indexer = [indexer]\n",
      "\u001b[36mFile \u001b[39m\u001b[32mc:\\Users\\opiej\\ufo-analysis-capstone\\ufo-analysis-capstone\\venv\\Lib\\site-packages\\pandas\\core\\indexes\\base.py:3819\u001b[39m, in \u001b[36mIndex.get_loc\u001b[39m\u001b[34m(self, key)\u001b[39m\n\u001b[32m   3814\u001b[39m     \u001b[38;5;28;01mif\u001b[39;00m \u001b[38;5;28misinstance\u001b[39m(casted_key, \u001b[38;5;28mslice\u001b[39m) \u001b[38;5;129;01mor\u001b[39;00m (\n\u001b[32m   3815\u001b[39m         \u001b[38;5;28misinstance\u001b[39m(casted_key, abc.Iterable)\n\u001b[32m   3816\u001b[39m         \u001b[38;5;129;01mand\u001b[39;00m \u001b[38;5;28many\u001b[39m(\u001b[38;5;28misinstance\u001b[39m(x, \u001b[38;5;28mslice\u001b[39m) \u001b[38;5;28;01mfor\u001b[39;00m x \u001b[38;5;129;01min\u001b[39;00m casted_key)\n\u001b[32m   3817\u001b[39m     ):\n\u001b[32m   3818\u001b[39m         \u001b[38;5;28;01mraise\u001b[39;00m InvalidIndexError(key)\n\u001b[32m-> \u001b[39m\u001b[32m3819\u001b[39m     \u001b[38;5;28;01mraise\u001b[39;00m \u001b[38;5;167;01mKeyError\u001b[39;00m(key) \u001b[38;5;28;01mfrom\u001b[39;00m\u001b[38;5;250m \u001b[39m\u001b[34;01merr\u001b[39;00m\n\u001b[32m   3820\u001b[39m \u001b[38;5;28;01mexcept\u001b[39;00m \u001b[38;5;167;01mTypeError\u001b[39;00m:\n\u001b[32m   3821\u001b[39m     \u001b[38;5;66;03m# If we have a listlike key, _check_indexing_error will raise\u001b[39;00m\n\u001b[32m   3822\u001b[39m     \u001b[38;5;66;03m#  InvalidIndexError. Otherwise we fall through and re-raise\u001b[39;00m\n\u001b[32m   3823\u001b[39m     \u001b[38;5;66;03m#  the TypeError.\u001b[39;00m\n\u001b[32m   3824\u001b[39m     \u001b[38;5;28mself\u001b[39m._check_indexing_error(key)\n",
      "\u001b[31mKeyError\u001b[39m: 'Occurred'"
     ]
    }
   ],
   "source": [
    "df['Occurred'].head()\n"
   ]
  },
  {
   "cell_type": "code",
   "execution_count": 31,
   "id": "204705bc",
   "metadata": {},
   "outputs": [
    {
     "name": "stdout",
     "output_type": "stream",
     "text": [
      "Index(['row_idx', 'row', 'truncated_cells'], dtype='object')\n"
     ]
    }
   ],
   "source": [
    "print(df.columns)\n"
   ]
  },
  {
   "cell_type": "code",
   "execution_count": 36,
   "id": "87c1389a",
   "metadata": {},
   "outputs": [
    {
     "data": {
      "application/vnd.microsoft.datawrangler.viewer.v0+json": {
       "columns": [
        {
         "name": "index",
         "rawType": "int64",
         "type": "integer"
        },
        {
         "name": "Sighting",
         "rawType": "int64",
         "type": "integer"
        },
        {
         "name": "Occurred",
         "rawType": "object",
         "type": "string"
        },
        {
         "name": "Location",
         "rawType": "object",
         "type": "string"
        },
        {
         "name": "Shape",
         "rawType": "object",
         "type": "string"
        },
        {
         "name": "Duration",
         "rawType": "object",
         "type": "unknown"
        },
        {
         "name": "No of observers",
         "rawType": "float64",
         "type": "float"
        },
        {
         "name": "Reported",
         "rawType": "object",
         "type": "string"
        },
        {
         "name": "Posted",
         "rawType": "object",
         "type": "string"
        },
        {
         "name": "Summary",
         "rawType": "object",
         "type": "unknown"
        },
        {
         "name": "Text",
         "rawType": "object",
         "type": "unknown"
        },
        {
         "name": "Lights on object",
         "rawType": "object",
         "type": "unknown"
        },
        {
         "name": "Aura or haze around object",
         "rawType": "object",
         "type": "unknown"
        },
        {
         "name": "Aircraft nearby",
         "rawType": "object",
         "type": "unknown"
        },
        {
         "name": "Animals reacted",
         "rawType": "object",
         "type": "unknown"
        },
        {
         "name": "Left a trail",
         "rawType": "object",
         "type": "unknown"
        },
        {
         "name": "Emitted other objects",
         "rawType": "object",
         "type": "unknown"
        },
        {
         "name": "Changed Colo",
         "rawType": "object",
         "type": "unknown"
        },
        {
         "name": "Emitted beams",
         "rawType": "object",
         "type": "unknown"
        },
        {
         "name": "Location details",
         "rawType": "object",
         "type": "unknown"
        },
        {
         "name": "Changed Color",
         "rawType": "object",
         "type": "unknown"
        },
        {
         "name": "Electrical or magnetic effects",
         "rawType": "object",
         "type": "unknown"
        },
        {
         "name": "Explanation",
         "rawType": "object",
         "type": "unknown"
        },
        {
         "name": "Possible abduction",
         "rawType": "object",
         "type": "unknown"
        },
        {
         "name": "Missing Time",
         "rawType": "object",
         "type": "unknown"
        },
        {
         "name": "Marks found on body afterwards",
         "rawType": "object",
         "type": "unknown"
        },
        {
         "name": "Landed",
         "rawType": "object",
         "type": "unknown"
        }
       ],
       "ref": "e23374e8-ac3e-4fff-bca4-ce0360a3c2fe",
       "rows": [
        [
         "0",
         "114864",
         "2014-09-21 13:00:00 Local",
         "Huntsville, TX, USA",
         "Rectangle",
         "several seconds",
         "1.0",
         "2014-10-23 11:11:17 Pacific",
         "2014-11-06 00:00:00",
         "Rectangle shaped UFO observed traveling at an extremely high rate of speed and sending out bright white propulsion as it traveled.",
         "I observed a rectangle shaped UFO moving at a very high rate of speed and sending out bright white propulsion as it traveled.  The UFO seemed to be larger than an aircraft as I noticed that as it flew under a cloud.  \nMy camera was aimed at 90 degrees upward..straight up in the sky when the UFO was recorded.  The UFO itself was dark in color.",
         "True",
         "True",
         null,
         null,
         null,
         null,
         null,
         null,
         null,
         null,
         null,
         null,
         null,
         null,
         null,
         null
        ],
        [
         "1",
         "126755",
         "2015-12-18 13:00:00 Local",
         "Sonoma, CA, USA",
         "Sphere",
         "2 minutes",
         "1.0",
         "2016-04-07 13:23:15 Pacific",
         "2016-04-15 00:00:00",
         "Round, metallic-looking sphere over my house",
         "It was a bright, clear day in December 2015, about 60 degrees and sunny, and I went out to get some firewood.\nI happened to look up and there was a round (spherical), bronze-colored craft sitting stationary over my house.\nIt had a metallic looking appearance and on the side that I was looking at it looked to me like there were part concave or convex areas to it.  I was looking at it facing north, looking up over my house.\nThere were no propellers, so it could not have been a drone, and no sound.  It was approximately 300 ft. above my house and if I were to estimate width, I would say maybe  20 to 30 feet wide.\nI was the only witness and I watched it for about 1 to 2 minutes.  Here is another additional part to my story.\nI have followed the UFO media reports for quite a few years and always thought  that  it would be great  to see one, to validate for myself that they exist.  I would get my camera, get a witness,  document everything, etc.\nAfter watching the craft, I continued on out to the wood pile and got the logs for my fireplace, and forgot about the entire thing… I remembered about 3 ½  weeks later, into January of this year , about  witnessing the craft.\nI am totally perplexed about that part of my story.\nI am a 62 year old woman with grandkids, have run a business for many years, and  have lived here for 28 years.  There would be no reason for me to fabricate this event.  As to who was piloting it -  ??",
         null,
         null,
         null,
         null,
         null,
         null,
         null,
         null,
         null,
         null,
         null,
         null,
         null,
         null,
         null,
         null
        ],
        [
         "2",
         "106946",
         "2014-02-05 21:00:00 Local",
         "Hershey, PA, USA",
         "Light",
         "10 seconds",
         "1.0",
         "2014-02-05 19:04:05 Pacific",
         "2014-02-07 00:00:00",
         "Bright flash of light. solid white object in the sky. disappeared after a couple seconds.  Seen while driving .",
         "I was driving on the highway and there was a huge flash of light.  The light lit up the entire town, possibly more.  \nAs I looked around for a split second I noticed a very bright ball of light in the sky ahead of.  \nThis light was almost tear dropped.  It was moving downwards at a high rate.  \nAfter a couple seconds it disappeared.  \nMy dad inside the house with closed blinds saw this flash of light.  \nThe house is about 2-3 minutes from my location at the time, in a neighborhood with houses all around.\nWitness confirms a nighttime sighting.  We have amended the time above.  PD",
         null,
         null,
         null,
         null,
         null,
         null,
         null,
         null,
         null,
         null,
         null,
         null,
         null,
         null,
         null,
         null
        ],
        [
         "3",
         "161419",
         "2019-05-16 12:00:00 Local",
         "Brownsville, TX, USA",
         "Oval",
         null,
         "1.0",
         "2021-01-02 20:45:43 Pacific",
         "2021-01-19 00:00:00",
         null,
         null,
         null,
         null,
         "True",
         "True",
         null,
         null,
         null,
         null,
         null,
         null,
         null,
         null,
         null,
         null,
         null,
         null
        ],
        [
         "4",
         "18735",
         "2001-07-29 23:59:00 Local",
         "Tucson, AZ, USA",
         "Unknown",
         "?",
         "2.0",
         "2001-07-30 00:00:00 Pacific",
         "2001-08-05 00:00:00",
         "1 of 3 i saw came close, released a small slow light, then i think they just disappeared",
         "my girlfriend and i were on a drive and wound up on the side of the road near mt. baldey, madera canyon area and i pointed at 3 lights in the sky. curious because there were no blinkiing lights. one came very quickly towards us stoppped at a closer distance released something lit which went very slow in a circle motion then toward our direction, and then all disappeared which was weird cause we didnt see any of them just vanish somehow we didnt talk about it after either which was weird also now that i remember.\nError in time.  We presume witness means 2359 (??).  PD",
         null,
         null,
         null,
         null,
         "True",
         "True",
         null,
         null,
         null,
         null,
         null,
         null,
         null,
         null,
         null,
         null
        ]
       ],
       "shape": {
        "columns": 26,
        "rows": 5
       }
      },
      "text/html": [
       "<div>\n",
       "<style scoped>\n",
       "    .dataframe tbody tr th:only-of-type {\n",
       "        vertical-align: middle;\n",
       "    }\n",
       "\n",
       "    .dataframe tbody tr th {\n",
       "        vertical-align: top;\n",
       "    }\n",
       "\n",
       "    .dataframe thead th {\n",
       "        text-align: right;\n",
       "    }\n",
       "</style>\n",
       "<table border=\"1\" class=\"dataframe\">\n",
       "  <thead>\n",
       "    <tr style=\"text-align: right;\">\n",
       "      <th></th>\n",
       "      <th>Sighting</th>\n",
       "      <th>Occurred</th>\n",
       "      <th>Location</th>\n",
       "      <th>Shape</th>\n",
       "      <th>Duration</th>\n",
       "      <th>No of observers</th>\n",
       "      <th>Reported</th>\n",
       "      <th>Posted</th>\n",
       "      <th>Summary</th>\n",
       "      <th>Text</th>\n",
       "      <th>...</th>\n",
       "      <th>Changed Colo</th>\n",
       "      <th>Emitted beams</th>\n",
       "      <th>Location details</th>\n",
       "      <th>Changed Color</th>\n",
       "      <th>Electrical or magnetic effects</th>\n",
       "      <th>Explanation</th>\n",
       "      <th>Possible abduction</th>\n",
       "      <th>Missing Time</th>\n",
       "      <th>Marks found on body afterwards</th>\n",
       "      <th>Landed</th>\n",
       "    </tr>\n",
       "  </thead>\n",
       "  <tbody>\n",
       "    <tr>\n",
       "      <th>0</th>\n",
       "      <td>114864</td>\n",
       "      <td>2014-09-21 13:00:00 Local</td>\n",
       "      <td>Huntsville, TX, USA</td>\n",
       "      <td>Rectangle</td>\n",
       "      <td>several seconds</td>\n",
       "      <td>1.0</td>\n",
       "      <td>2014-10-23 11:11:17 Pacific</td>\n",
       "      <td>2014-11-06 00:00:00</td>\n",
       "      <td>Rectangle shaped UFO observed traveling at an ...</td>\n",
       "      <td>I observed a rectangle shaped UFO moving at a ...</td>\n",
       "      <td>...</td>\n",
       "      <td>None</td>\n",
       "      <td>None</td>\n",
       "      <td>None</td>\n",
       "      <td>None</td>\n",
       "      <td>None</td>\n",
       "      <td>None</td>\n",
       "      <td>None</td>\n",
       "      <td>None</td>\n",
       "      <td>None</td>\n",
       "      <td>None</td>\n",
       "    </tr>\n",
       "    <tr>\n",
       "      <th>1</th>\n",
       "      <td>126755</td>\n",
       "      <td>2015-12-18 13:00:00 Local</td>\n",
       "      <td>Sonoma, CA, USA</td>\n",
       "      <td>Sphere</td>\n",
       "      <td>2 minutes</td>\n",
       "      <td>1.0</td>\n",
       "      <td>2016-04-07 13:23:15 Pacific</td>\n",
       "      <td>2016-04-15 00:00:00</td>\n",
       "      <td>Round, metallic-looking sphere over my house</td>\n",
       "      <td>It was a bright, clear day in December 2015, a...</td>\n",
       "      <td>...</td>\n",
       "      <td>None</td>\n",
       "      <td>None</td>\n",
       "      <td>None</td>\n",
       "      <td>None</td>\n",
       "      <td>None</td>\n",
       "      <td>None</td>\n",
       "      <td>None</td>\n",
       "      <td>None</td>\n",
       "      <td>None</td>\n",
       "      <td>None</td>\n",
       "    </tr>\n",
       "    <tr>\n",
       "      <th>2</th>\n",
       "      <td>106946</td>\n",
       "      <td>2014-02-05 21:00:00 Local</td>\n",
       "      <td>Hershey, PA, USA</td>\n",
       "      <td>Light</td>\n",
       "      <td>10 seconds</td>\n",
       "      <td>1.0</td>\n",
       "      <td>2014-02-05 19:04:05 Pacific</td>\n",
       "      <td>2014-02-07 00:00:00</td>\n",
       "      <td>Bright flash of light. solid white object in t...</td>\n",
       "      <td>I was driving on the highway and there was a h...</td>\n",
       "      <td>...</td>\n",
       "      <td>None</td>\n",
       "      <td>None</td>\n",
       "      <td>None</td>\n",
       "      <td>None</td>\n",
       "      <td>None</td>\n",
       "      <td>None</td>\n",
       "      <td>None</td>\n",
       "      <td>None</td>\n",
       "      <td>None</td>\n",
       "      <td>None</td>\n",
       "    </tr>\n",
       "    <tr>\n",
       "      <th>3</th>\n",
       "      <td>161419</td>\n",
       "      <td>2019-05-16 12:00:00 Local</td>\n",
       "      <td>Brownsville, TX, USA</td>\n",
       "      <td>Oval</td>\n",
       "      <td>None</td>\n",
       "      <td>1.0</td>\n",
       "      <td>2021-01-02 20:45:43 Pacific</td>\n",
       "      <td>2021-01-19 00:00:00</td>\n",
       "      <td>None</td>\n",
       "      <td>None</td>\n",
       "      <td>...</td>\n",
       "      <td>None</td>\n",
       "      <td>None</td>\n",
       "      <td>None</td>\n",
       "      <td>None</td>\n",
       "      <td>None</td>\n",
       "      <td>None</td>\n",
       "      <td>None</td>\n",
       "      <td>None</td>\n",
       "      <td>None</td>\n",
       "      <td>None</td>\n",
       "    </tr>\n",
       "    <tr>\n",
       "      <th>4</th>\n",
       "      <td>18735</td>\n",
       "      <td>2001-07-29 23:59:00 Local</td>\n",
       "      <td>Tucson, AZ, USA</td>\n",
       "      <td>Unknown</td>\n",
       "      <td>?</td>\n",
       "      <td>2.0</td>\n",
       "      <td>2001-07-30 00:00:00 Pacific</td>\n",
       "      <td>2001-08-05 00:00:00</td>\n",
       "      <td>1 of 3 i saw came close, released a small slow...</td>\n",
       "      <td>my girlfriend and i were on a drive and wound ...</td>\n",
       "      <td>...</td>\n",
       "      <td>None</td>\n",
       "      <td>None</td>\n",
       "      <td>None</td>\n",
       "      <td>None</td>\n",
       "      <td>None</td>\n",
       "      <td>None</td>\n",
       "      <td>None</td>\n",
       "      <td>None</td>\n",
       "      <td>None</td>\n",
       "      <td>None</td>\n",
       "    </tr>\n",
       "  </tbody>\n",
       "</table>\n",
       "<p>5 rows × 26 columns</p>\n",
       "</div>"
      ],
      "text/plain": [
       "   Sighting                   Occurred              Location      Shape  \\\n",
       "0    114864  2014-09-21 13:00:00 Local   Huntsville, TX, USA  Rectangle   \n",
       "1    126755  2015-12-18 13:00:00 Local       Sonoma, CA, USA     Sphere   \n",
       "2    106946  2014-02-05 21:00:00 Local      Hershey, PA, USA      Light   \n",
       "3    161419  2019-05-16 12:00:00 Local  Brownsville, TX, USA       Oval   \n",
       "4     18735  2001-07-29 23:59:00 Local       Tucson, AZ, USA    Unknown   \n",
       "\n",
       "          Duration  No of observers                     Reported  \\\n",
       "0  several seconds              1.0  2014-10-23 11:11:17 Pacific   \n",
       "1        2 minutes              1.0  2016-04-07 13:23:15 Pacific   \n",
       "2       10 seconds              1.0  2014-02-05 19:04:05 Pacific   \n",
       "3             None              1.0  2021-01-02 20:45:43 Pacific   \n",
       "4                ?              2.0  2001-07-30 00:00:00 Pacific   \n",
       "\n",
       "                Posted                                            Summary  \\\n",
       "0  2014-11-06 00:00:00  Rectangle shaped UFO observed traveling at an ...   \n",
       "1  2016-04-15 00:00:00       Round, metallic-looking sphere over my house   \n",
       "2  2014-02-07 00:00:00  Bright flash of light. solid white object in t...   \n",
       "3  2021-01-19 00:00:00                                               None   \n",
       "4  2001-08-05 00:00:00  1 of 3 i saw came close, released a small slow...   \n",
       "\n",
       "                                                Text  ... Changed Colo  \\\n",
       "0  I observed a rectangle shaped UFO moving at a ...  ...         None   \n",
       "1  It was a bright, clear day in December 2015, a...  ...         None   \n",
       "2  I was driving on the highway and there was a h...  ...         None   \n",
       "3                                               None  ...         None   \n",
       "4  my girlfriend and i were on a drive and wound ...  ...         None   \n",
       "\n",
       "  Emitted beams Location details Changed Color Electrical or magnetic effects  \\\n",
       "0          None             None          None                           None   \n",
       "1          None             None          None                           None   \n",
       "2          None             None          None                           None   \n",
       "3          None             None          None                           None   \n",
       "4          None             None          None                           None   \n",
       "\n",
       "  Explanation Possible abduction Missing Time Marks found on body afterwards  \\\n",
       "0        None               None         None                           None   \n",
       "1        None               None         None                           None   \n",
       "2        None               None         None                           None   \n",
       "3        None               None         None                           None   \n",
       "4        None               None         None                           None   \n",
       "\n",
       "  Landed  \n",
       "0   None  \n",
       "1   None  \n",
       "2   None  \n",
       "3   None  \n",
       "4   None  \n",
       "\n",
       "[5 rows x 26 columns]"
      ]
     },
     "execution_count": 36,
     "metadata": {},
     "output_type": "execute_result"
    }
   ],
   "source": [
    "# Flatten the 'row' dictionary into separate columns\n",
    "df_flat = pd.json_normalize(df['row'])\n",
    "\n",
    "# Preview to confirm success\n",
    "df_flat.head()\n"
   ]
  },
  {
   "cell_type": "code",
   "execution_count": 37,
   "id": "27b02a67",
   "metadata": {},
   "outputs": [
    {
     "name": "stdout",
     "output_type": "stream",
     "text": [
      "Index(['Sighting', 'Occurred', 'Location', 'Shape', 'Duration',\n",
      "       'No of observers', 'Reported', 'Posted', 'Summary', 'Text',\n",
      "       'Lights on object', 'Aura or haze around object', 'Aircraft nearby',\n",
      "       'Animals reacted', 'Left a trail', 'Emitted other objects',\n",
      "       'Changed Colo', 'Emitted beams', 'Location details', 'Changed Color',\n",
      "       'Electrical or magnetic effects', 'Explanation', 'Possible abduction',\n",
      "       'Missing Time', 'Marks found on body afterwards', 'Landed'],\n",
      "      dtype='object')\n"
     ]
    }
   ],
   "source": [
    "print(df_flat.columns)\n"
   ]
  },
  {
   "cell_type": "code",
   "execution_count": 38,
   "id": "6c49715d",
   "metadata": {},
   "outputs": [
    {
     "data": {
      "application/vnd.microsoft.datawrangler.viewer.v0+json": {
       "columns": [
        {
         "name": "index",
         "rawType": "int64",
         "type": "integer"
        },
        {
         "name": "Occurred",
         "rawType": "datetime64[ns]",
         "type": "datetime"
        },
        {
         "name": "City",
         "rawType": "object",
         "type": "string"
        },
        {
         "name": "State",
         "rawType": "object",
         "type": "string"
        },
        {
         "name": "date_only",
         "rawType": "object",
         "type": "unknown"
        },
        {
         "name": "year",
         "rawType": "int32",
         "type": "integer"
        },
        {
         "name": "month",
         "rawType": "int32",
         "type": "integer"
        },
        {
         "name": "hour",
         "rawType": "int32",
         "type": "integer"
        }
       ],
       "ref": "7a7e50fc-8ee3-45a9-8085-03dfe7e25f9d",
       "rows": [
        [
         "0",
         "2014-09-21 13:00:00",
         "Huntsville",
         "TX",
         "2014-09-21",
         "2014",
         "9",
         "13"
        ],
        [
         "1",
         "2015-12-18 13:00:00",
         "Sonoma",
         "CA",
         "2015-12-18",
         "2015",
         "12",
         "13"
        ],
        [
         "2",
         "2014-02-05 21:00:00",
         "Hershey",
         "PA",
         "2014-02-05",
         "2014",
         "2",
         "21"
        ],
        [
         "3",
         "2019-05-16 12:00:00",
         "Brownsville",
         "TX",
         "2019-05-16",
         "2019",
         "5",
         "12"
        ],
        [
         "4",
         "2001-07-29 23:59:00",
         "Tucson",
         "AZ",
         "2001-07-29",
         "2001",
         "7",
         "23"
        ]
       ],
       "shape": {
        "columns": 7,
        "rows": 5
       }
      },
      "text/html": [
       "<div>\n",
       "<style scoped>\n",
       "    .dataframe tbody tr th:only-of-type {\n",
       "        vertical-align: middle;\n",
       "    }\n",
       "\n",
       "    .dataframe tbody tr th {\n",
       "        vertical-align: top;\n",
       "    }\n",
       "\n",
       "    .dataframe thead th {\n",
       "        text-align: right;\n",
       "    }\n",
       "</style>\n",
       "<table border=\"1\" class=\"dataframe\">\n",
       "  <thead>\n",
       "    <tr style=\"text-align: right;\">\n",
       "      <th></th>\n",
       "      <th>Occurred</th>\n",
       "      <th>City</th>\n",
       "      <th>State</th>\n",
       "      <th>date_only</th>\n",
       "      <th>year</th>\n",
       "      <th>month</th>\n",
       "      <th>hour</th>\n",
       "    </tr>\n",
       "  </thead>\n",
       "  <tbody>\n",
       "    <tr>\n",
       "      <th>0</th>\n",
       "      <td>2014-09-21 13:00:00</td>\n",
       "      <td>Huntsville</td>\n",
       "      <td>TX</td>\n",
       "      <td>2014-09-21</td>\n",
       "      <td>2014</td>\n",
       "      <td>9</td>\n",
       "      <td>13</td>\n",
       "    </tr>\n",
       "    <tr>\n",
       "      <th>1</th>\n",
       "      <td>2015-12-18 13:00:00</td>\n",
       "      <td>Sonoma</td>\n",
       "      <td>CA</td>\n",
       "      <td>2015-12-18</td>\n",
       "      <td>2015</td>\n",
       "      <td>12</td>\n",
       "      <td>13</td>\n",
       "    </tr>\n",
       "    <tr>\n",
       "      <th>2</th>\n",
       "      <td>2014-02-05 21:00:00</td>\n",
       "      <td>Hershey</td>\n",
       "      <td>PA</td>\n",
       "      <td>2014-02-05</td>\n",
       "      <td>2014</td>\n",
       "      <td>2</td>\n",
       "      <td>21</td>\n",
       "    </tr>\n",
       "    <tr>\n",
       "      <th>3</th>\n",
       "      <td>2019-05-16 12:00:00</td>\n",
       "      <td>Brownsville</td>\n",
       "      <td>TX</td>\n",
       "      <td>2019-05-16</td>\n",
       "      <td>2019</td>\n",
       "      <td>5</td>\n",
       "      <td>12</td>\n",
       "    </tr>\n",
       "    <tr>\n",
       "      <th>4</th>\n",
       "      <td>2001-07-29 23:59:00</td>\n",
       "      <td>Tucson</td>\n",
       "      <td>AZ</td>\n",
       "      <td>2001-07-29</td>\n",
       "      <td>2001</td>\n",
       "      <td>7</td>\n",
       "      <td>23</td>\n",
       "    </tr>\n",
       "  </tbody>\n",
       "</table>\n",
       "</div>"
      ],
      "text/plain": [
       "             Occurred         City State   date_only  year  month  hour\n",
       "0 2014-09-21 13:00:00   Huntsville    TX  2014-09-21  2014      9    13\n",
       "1 2015-12-18 13:00:00       Sonoma    CA  2015-12-18  2015     12    13\n",
       "2 2014-02-05 21:00:00      Hershey    PA  2014-02-05  2014      2    21\n",
       "3 2019-05-16 12:00:00  Brownsville    TX  2019-05-16  2019      5    12\n",
       "4 2001-07-29 23:59:00       Tucson    AZ  2001-07-29  2001      7    23"
      ]
     },
     "execution_count": 38,
     "metadata": {},
     "output_type": "execute_result"
    }
   ],
   "source": [
    "# Convert Occurred to datetime\n",
    "df_flat['Occurred'] = pd.to_datetime(df_flat['Occurred'].astype(str).str.replace('Local', '').str.strip(), errors='coerce')\n",
    "\n",
    "# Drop rows where date parsing failed\n",
    "df_flat = df_flat.dropna(subset=['Occurred'])\n",
    "\n",
    "# Split Location\n",
    "df_flat[['City', 'State']] = df_flat['Location'].str.extract(r'^(.*?),\\s*([A-Z]{2})')\n",
    "\n",
    "# Extract date parts\n",
    "df_flat['date_only'] = df_flat['Occurred'].dt.date\n",
    "df_flat['year'] = df_flat['Occurred'].dt.year\n",
    "df_flat['month'] = df_flat['Occurred'].dt.month\n",
    "df_flat['hour'] = df_flat['Occurred'].dt.hour\n",
    "\n",
    "# Preview\n",
    "df_flat[['Occurred', 'City', 'State', 'date_only', 'year', 'month', 'hour']].head()\n"
   ]
  }
 ],
 "metadata": {
  "kernelspec": {
   "display_name": "venv (3.13.1)",
   "language": "python",
   "name": "python3"
  },
  "language_info": {
   "codemirror_mode": {
    "name": "ipython",
    "version": 3
   },
   "file_extension": ".py",
   "mimetype": "text/x-python",
   "name": "python",
   "nbconvert_exporter": "python",
   "pygments_lexer": "ipython3",
   "version": "3.13.1"
  }
 },
 "nbformat": 4,
 "nbformat_minor": 5
}
